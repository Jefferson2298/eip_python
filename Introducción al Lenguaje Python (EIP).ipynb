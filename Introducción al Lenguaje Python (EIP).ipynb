{
 "cells": [
  {
   "cell_type": "markdown",
   "metadata": {},
   "source": [
    "# <center>Escuelas de Informáticas Patagónica</center>\n",
    "## <center>Introducción al lenguaje Python</center>\n",
    "\n",
    "![UNPSJB](/estaticos/imagenes/unpsjb.png)"
   ]
  },
  {
   "cell_type": "markdown",
   "metadata": {},
   "source": [
    "### Bienvenidos\n",
    "\n",
    "*En este curso haremos una rápida introducción al lenguaje Python y al intérprete IPython, así como a Jupyter Notebook. Inicialmente abordaremos temáticas básicas del lenguaje en cuanto a tipos de datos y estructuras, para posteriormente refinarlas y adentrarnos en cuestiones de procesamiento de datos y técnicas de visualización. Todo este de forma interactiva y divertida!!!*"
   ]
  },
  {
   "cell_type": "markdown",
   "metadata": {},
   "source": [
    "### Docentes\n",
    "\n",
    "* Nahuel Defossé\n",
    "  - nahuel.defosse@gmail.com\n",
    "  \n",
    "* Diego van Haaster\n",
    "  - diegomvh@gmail.com"
   ]
  },
  {
   "cell_type": "markdown",
   "metadata": {},
   "source": [
    "### Bloque 1\n",
    " * [Introducción](./temas/Introduccion.ipynb)\n",
    " * [Usando el intérprete de Python](./temas/Interprete.ipynb) \n",
    " * [Tipos de datos - Números](./temas/TiposDeDatos.ipynb#Números)\n",
    " * [Tipos de datos - Cadenas de caracteres](./temas/TiposDeDatos.ipynb#Cadenas-de-caracteres)\n",
    " * [Tipos de datos - Listas](./temas/TiposDeDatos.ipynb#Listas)"
   ]
  },
  {
   "cell_type": "markdown",
   "metadata": {},
   "source": [
    "### Bloque 2\n",
    " * [Control de flujo - Primeros pasos hacia la programación](./temas/ControlDeFlujo.ipynb#Primeros-pasos-hacia-la-programación)\n",
    " * [Control de flujo - Definiendo funciones](./temas/ControlDeFlujo.ipynb#Definiendo-funciones)\n",
    " * [Entrada/Salida - Formateo elegante de la salida](./temas/EntradaSalida.ipynb#Formateo-elegante-de-la-salida)\n",
    " * [Entrada/Salida - Leyendo y escribiendo archivos](./temas/EntradaSalida.ipynb#Leyendo-y-escribiendo-archivos)\n",
    " * [Errores y excepciones](./temas/Excepciones.ipynb#Errores-y-excepciones)"
   ]
  },
  {
   "cell_type": "markdown",
   "metadata": {},
   "source": [
    "### Bloque 3\n",
    " * Introducción a la programación orientada a Objetos. \n",
    " * Modularización de código utilizando módulos y paquetes, mecanismos de distribución. \n",
    " * Utilización de <strike>Mayavi</strike> para interfaces gráficas y visualización. \n",
    " * Módulo pandas para procesamiento de datos."
   ]
  },
  {
   "cell_type": "markdown",
   "metadata": {},
   "source": [
    "### Bloque 4\n",
    " * Módulo Pandas para ETL sobre varis fuentes de datos. \n",
    " * Técnicas de Visualización de datos. \n",
    " * Recuperando información desde la web."
   ]
  },
  {
   "cell_type": "markdown",
   "metadata": {},
   "source": [
    "### Bloque 5\n",
    " * Interacción con programas externos a través de subprocesos.\n",
    " * Paquetes de terceros para Jupyter."
   ]
  },
  {
   "cell_type": "markdown",
   "metadata": {},
   "source": [
    "### Recursos\n",
    "[Tutorial de Python](http://tutorial.python.org.ar/)"
   ]
  }
 ],
 "metadata": {
  "anaconda-cloud": {},
  "kernelspec": {
   "display_name": "Python [default]",
   "language": "python",
   "name": "python3"
  },
  "language_info": {
   "codemirror_mode": {
    "name": "ipython",
    "version": 3
   },
   "file_extension": ".py",
   "mimetype": "text/x-python",
   "name": "python",
   "nbconvert_exporter": "python",
   "pygments_lexer": "ipython3",
   "version": "3.5.2"
  }
 },
 "nbformat": 4,
 "nbformat_minor": 0
}
