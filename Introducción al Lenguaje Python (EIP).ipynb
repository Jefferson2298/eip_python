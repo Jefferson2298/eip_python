{
 "cells": [
  {
   "cell_type": "markdown",
   "metadata": {},
   "source": [
    "# <center>Escuelas de Informáticas Patagónica</center>\n",
    "![UNPSJB](imagenes/unpsjb.png)\n",
    "## <center>Introducción al lenguaje Python</center>"
   ]
  },
  {
   "cell_type": "markdown",
   "metadata": {},
   "source": [
    "### Bienvenidos\n",
    "\n",
    "*En este curso haremos una rápida introducción al lenguaje Python y al intérprete IPython, así como a Jupyter Notebook. Inicialmente abordaremos temáticas básicas del lenguaje en cuanto a tipos de datos y estructuras, para posteriormente refinarlas y adentrarnos en cuestiones de procesamiento de datos y técnicas de visualización. Todo este de forma interactiva y divertida!!!*"
   ]
  },
  {
   "cell_type": "markdown",
   "metadata": {},
   "source": [
    "### Docentes\n",
    "\n",
    "* Nahuel Defossé\n",
    "  - nahuel.defosse@gmail.com\n",
    "  \n",
    "* Diego van Haaster\n",
    "  - diegomvh@gmail.com"
   ]
  },
  {
   "cell_type": "markdown",
   "metadata": {},
   "source": [
    "### Bloque 1\n",
    " * [Introducción](./temas/Introduccion.ipynb)\n",
    " * [Usando Python](./temas/Interprete.ipynb)\n",
    " * [Números](./temas/TiposDeDatos.ipynb#Números)\n",
    " * [Booleanos](./temas/TiposDeDatos.ipynb#Booleanos)\n",
    " * [Cadenas de caracteres](./temas/TiposDeDatos.ipynb#Cadenas-de-caracteres)\n",
    " * [Listas](./temas/TiposDeDatos.ipynb#Listas)\n",
    " * [Tuplas y secuencias](./temas/TiposDeDatos.ipynb#Tuplas-y-secuencias)\n",
    " * [Diccionarios](./temas/TiposDeDatos.ipynb#Diccionarios)"
   ]
  },
  {
   "cell_type": "markdown",
   "metadata": {},
   "source": [
    "### Bloque 2\n",
    " * [Primeros pasos hacia la programación](./temas/ControlDeFlujo.ipynb#Primeros-pasos-hacia-la-programación)\n",
    " * [Definiendo funciones](./temas/ControlDeFlujo.ipynb#Definiendo-funciones)\n",
    " * [Modularización de código utilizando módulos y paquetes](temas/Modularización.ipynb)"
   ]
  },
  {
   "cell_type": "markdown",
   "metadata": {},
   "source": [
    "### Bloque 3\n",
    " * [Formateo elegante de la salida](./temas/EntradaSalida.ipynb#Formateo-elegante-de-la-salida)\n",
    " * [Leyendo y escribiendo archivos](./temas/EntradaSalida.ipynb#Leyendo-y-escribiendo-archivos)\n",
    " * [Introducción a la programación orientada a Objetos.](temas/Programación%20Orientada%20A%20Objetos.ipynb)\n",
    " * [Errores y excepciones](./temas/Excepciones.ipynb#Errores-y-excepciones)\n",
    " * [Ejercitación en clase (código scrapper)](./temas/Ejercitacion.ipynb)\n"
   ]
  },
  {
   "cell_type": "markdown",
   "metadata": {},
   "source": [
    "### Bloque 4\n",
    " * [Micro-introducción a NumPy arrays y Matplotlib para visualización](temas/Numpy.ipynb)\n",
    " * [Utilización de IPython Widgets para interfaces gráficas y visualización](temas/Utilización%20de%20IPython%20Widgets%20para%20interfaces%20gráficas%20y%20visualización.ipynb) | [Ver ejemplos de ipywidget](extras/ipywidgets/docs/source/examples)\n",
    " * [Un caso de uso de Numpy Arrays buscando ruido de CCD en imágenes](temas/Pixels.ipynb)\n"
   ]
  },
  {
   "cell_type": "markdown",
   "metadata": {},
   "source": [
    "### Bloque 5\n",
    " * [Módulo pandas para ETL y procesamiento de datos](temas/pandas.ipynb)\n",
    " * [Interacción con programas externos a través de subprocesos.](temas/subprocesos.ipynb)\n",
    " * [Paquetes de terceros para Jupyter.](https://github.com/ipython/ipython/wiki/Extensions-Index) Ver ejemplo en clase con ipython-sql.\n",
    " * [Comunidad y recursos relacionados con el Lenguaje](temas/comunidad_recursos.ipynb)"
   ]
  },
  {
   "cell_type": "markdown",
   "metadata": {},
   "source": [
    "### Recursos\n",
    "\n",
    "* [Tutorial de Python](http://tutorial.python.org.ar/)\n",
    "* [Python Científico por Martín Gaitan](https://github.com/mgaitan/curso-python-cientifico) Algunos notebooks pueden ser para Python 2. En general, se resuelve agregando `(` y `)` los prints.\n",
    "* [Python no Muerde](http://python-no-muerde.readthedocs.io/es/latest/)\n",
    "* [Material de DSS de Celia Cintas](https://github.com/celiacintas/dss_practica)\n"
   ]
  },
  {
   "cell_type": "code",
   "execution_count": null,
   "metadata": {
    "collapsed": true
   },
   "outputs": [],
   "source": []
  }
 ],
 "metadata": {
  "anaconda-cloud": {},
  "kernelspec": {
   "display_name": "Python [conda root]",
   "language": "python",
   "name": "conda-root-py"
  },
  "language_info": {
   "codemirror_mode": {
    "name": "ipython",
    "version": 3
   },
   "file_extension": ".py",
   "mimetype": "text/x-python",
   "name": "python",
   "nbconvert_exporter": "python",
   "pygments_lexer": "ipython3",
   "version": "3.5.2"
  }
 },
 "nbformat": 4,
 "nbformat_minor": 0
}
