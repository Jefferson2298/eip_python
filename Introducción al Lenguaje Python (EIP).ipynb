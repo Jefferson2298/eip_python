{
 "cells": [
  {
   "cell_type": "markdown",
   "metadata": {},
   "source": [
    "# <center>Escuelas de Informáticas Patagónica</center>\n",
    "![UNPSJB](imagenes/unpsjb.png)\n",
    "## <center>El Lenguaje de Programación Python en Acción</center>"
   ]
  },
  {
   "cell_type": "markdown",
   "metadata": {},
   "source": [
    "### Bienvenidos\n",
    "\n",
    "> En este curso haremos una rápida introducción al lenguaje Python, al intérprete IPython y algo de Jupyter Notebook.\n",
    "\n",
    "> Inicialmente abordaremos temáticas básicas del lenguaje en cuanto a tipos de datos y estructuras, para posteriormente mostrar un pantallazo del desarrollo de software utilizando Python, mediante la realización de pequeños proyectos.\n",
    "\n",
    "> Todo este de forma interactiva y divertida"
   ]
  },
  {
   "cell_type": "markdown",
   "metadata": {},
   "source": [
    "### Docentes\n",
    "\n",
    "* Pecile, Lautaro Maximiliano\n",
    "  - lautaro.pecile@gmail.com\n",
    "  \n",
    "* Diego van Haaster\n",
    "  - diegomvh@gmail.com"
   ]
  },
  {
   "cell_type": "markdown",
   "metadata": {},
   "source": [
    "### Introducción a Python\n",
    " * [Introducción](./temas/IntroduccionAPython.ipynb)\n",
    " * [Usando Python](./temas/Interprete.ipynb)\n",
    " * [Números](./temas/TiposDeDatos.ipynb#Números)\n",
    " * [Booleanos](./temas/TiposDeDatos.ipynb#Booleanos)\n",
    " * [Cadenas de caracteres](./temas/TiposDeDatos.ipynb#Cadenas-de-caracteres)\n",
    " * [Listas](./temas/TiposDeDatos.ipynb#Listas)\n",
    " * [Tuplas y secuencias](./temas/TiposDeDatos.ipynb#Tuplas-y-secuencias)\n",
    " * [Diccionarios](./temas/TiposDeDatos.ipynb#Diccionarios)"
   ]
  },
  {
   "cell_type": "markdown",
   "metadata": {},
   "source": [
    "### Programación en Python\n",
    " * [Introducción](./temas/ProgramacionEnPython.ipynb)\n",
    " * [Primeros pasos hacia la programación](./temas/ControlDeFlujo.ipynb#Primeros-pasos-hacia-la-programación)\n",
    " * [Definiendo funciones](./temas/ControlDeFlujo.ipynb#Definiendo-funciones)\n",
    " * [Modularización de código utilizando módulos y paquetes](temas/Modularización.ipynb)"
   ]
  },
  {
   "cell_type": "markdown",
   "metadata": {},
   "source": [
    "### Procesamiento de datos\n",
    " * [Introducción](./temas/ProcesamientoDeDatos.ipynb)\n",
    " * [Formateo elegante de la salida](./temas/EntradaSalida.ipynb#Formateo-elegante-de-la-salida)\n",
    " * [Leyendo y escribiendo archivos](./temas/EntradaSalida.ipynb#Leyendo-y-escribiendo-archivos)\n",
    " * [Introducción a la programación orientada a Objetos.](temas/Programación%20Orientada%20A%20Objetos.ipynb)\n",
    " * [Errores y excepciones](./temas/Excepciones.ipynb#Errores-y-excepciones)\n",
    " * [Ejercitación en clase (código scrapper)](./temas/Ejercitacion.ipynb)\n"
   ]
  },
  {
   "cell_type": "markdown",
   "metadata": {},
   "source": [
    "### Arquitectura WEB\n",
    " * [Introducción](./temas/ArquitecturaWeb.ipynb)\n",
    " * [Utilización de IPython Widgets para interfaces gráficas y visualización](temas/Utilización%20de%20IPython%20Widgets%20para%20interfaces%20gráficas%20y%20visualización.ipynb) | [Ver ejemplos de ipywidget](extras/ipywidgets/docs/source/examples)\n",
    " * [Un caso de uso de Numpy Arrays buscando ruido de CCD en imágenes](temas/Pixels.ipynb)\n"
   ]
  },
  {
   "cell_type": "markdown",
   "metadata": {},
   "source": [
    "### Implementación de API REST\n",
    "\n",
    " * [Introducción](./temas/ImplementacionDeApiRest.ipynb)\n",
    " * [Módulo pandas para ETL y procesamiento de datos](temas/pandas.ipynb)\n",
    " * [Interacción con programas externos a través de subprocesos.](temas/subprocesos.ipynb)\n",
    " * [Paquetes de terceros para Jupyter.](https://github.com/ipython/ipython/wiki/Extensions-Index) Ver ejemplo en clase con ipython-sql.\n",
    " * [Comunidad y recursos relacionados con el Lenguaje](temas/comunidad_recursos.ipynb)"
   ]
  },
  {
   "cell_type": "markdown",
   "metadata": {},
   "source": [
    "### Mas Python\n",
    "\n",
    "* [Mas Python](./temas/MasPython.ipynb)"
   ]
  },
  {
   "cell_type": "markdown",
   "metadata": {},
   "source": [
    "# Dinamica de clase\n",
    "\n",
    "* Clases de 3 horas con 1 hora 45 minutos para teoría\n",
    "* Descanso de 15 minutos\n",
    "* Desarrollo de una actividad de aplicación práctica\n"
   ]
  },
  {
   "cell_type": "markdown",
   "metadata": {},
   "source": [
    "# Aprobación del Curso\n",
    "\n",
    "* Fecha máxima: 10/10\n",
    "* Temas relacionados con lo visto en el curso.\n",
    "* Notificar por mail a Lautaro o Diego sobre el tema y las dudas para orietnación y definición de alcance.\n",
    "* Grupo máximo: 2 personas"
   ]
  }
 ],
 "metadata": {
  "anaconda-cloud": {},
  "kernelspec": {
   "display_name": "Python 3",
   "language": "python",
   "name": "python3"
  },
  "language_info": {
   "codemirror_mode": {
    "name": "ipython",
    "version": 3
   },
   "file_extension": ".py",
   "mimetype": "text/x-python",
   "name": "python",
   "nbconvert_exporter": "python",
   "pygments_lexer": "ipython3",
   "version": "3.6.2"
  }
 },
 "nbformat": 4,
 "nbformat_minor": 1
}
