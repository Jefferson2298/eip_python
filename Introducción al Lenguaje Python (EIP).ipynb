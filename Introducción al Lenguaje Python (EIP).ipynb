{
 "cells": [
  {
   "cell_type": "markdown",
   "metadata": {},
   "source": [
    "# Escuelas de Informáticas Patagónica\n",
    "\n",
    "## Introducción al lenguaje Python"
   ]
  },
  {
   "cell_type": "markdown",
   "metadata": {},
   "source": [
    "### Día 1\n",
    " * [Instalación del entorno Anaconda](./temas/Anaconda.ipynb)\n",
    " * Modo de ejecución interactivo y en modalidad archivo. \n",
    " * [Tipos de datos](./temas/TiposDeDatos.ipynb)\n",
    "     * [Números](./temas/TiposDeDatos.ipynb#Números)\n",
    "     * [Cadenas](./temas/TiposDeDatos.ipynb#Cadenas)\n",
    "     * [Listas](./temas/TiposDeDatos.ipynb#Listas)"
   ]
  },
  {
   "cell_type": "markdown",
   "metadata": {},
   "source": [
    "### Día 2\n",
    " * Procesamiento de archivos mediante el tipo file. \n",
    " * Entrada/salida. \n",
    " * Manejo de excepciones. \n",
    " * Estructuras de control. \n",
    " * Definición de funciones."
   ]
  },
  {
   "cell_type": "markdown",
   "metadata": {},
   "source": [
    "### Día 3\n",
    " * Tipo de dato list y tuple. \n",
    " * Introducción a la programación orientada a Objetos. \n",
    " * Modularización de código utilizando módulos y paquetes, mecanismos de distribución. \n",
    " * Utilización de <strike>Mayavi</strike> para interfaces gráficas y visualización. \n",
    " * Módulo pandas para procesamiento de datos."
   ]
  },
  {
   "cell_type": "markdown",
   "metadata": {},
   "source": [
    "### Día 4\n",
    " * Módulo Pandas para ETL sobre varis fuentes de datos. \n",
    " * Técnicas de Visualización de datos. \n",
    " * Recuperando información desde la web."
   ]
  },
  {
   "cell_type": "markdown",
   "metadata": {},
   "source": [
    "### Día 5\n",
    " * Interacción con programas externos a través de subprocesos.\n",
    " * Paquetes de terceros para Jupyter."
   ]
  },
  {
   "cell_type": "markdown",
   "metadata": {},
   "source": [
    "### Recursos\n",
    "[Tutorial de Python](http://tutorial.python.org.ar/)"
   ]
  },
  {
   "cell_type": "code",
   "execution_count": 24,
   "metadata": {
    "collapsed": false
   },
   "outputs": [
    {
     "name": "stdout",
     "output_type": "stream",
     "text": [
      "/Users/nahuel/anaconda/envs/eip_python\r\n"
     ]
    }
   ],
   "source": [
    "!pwd"
   ]
  }
 ],
 "metadata": {
  "anaconda-cloud": {},
  "kernelspec": {
   "display_name": "Python [default]",
   "language": "python",
   "name": "python3"
  },
  "language_info": {
   "codemirror_mode": {
    "name": "ipython",
    "version": 3
   },
   "file_extension": ".py",
   "mimetype": "text/x-python",
   "name": "python",
   "nbconvert_exporter": "python",
   "pygments_lexer": "ipython3",
   "version": "3.5.2"
  }
 },
 "nbformat": 4,
 "nbformat_minor": 0
}
