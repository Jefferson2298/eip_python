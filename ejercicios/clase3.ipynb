{
 "cells": [
  {
   "cell_type": "markdown",
   "metadata": {
    "collapsed": true
   },
   "source": [
    "# Ejercitacion Clase 3\n",
    "\n",
    "Mejore la implementación de la clase 2 incorporando:\n",
    "\n",
    "* Posibilidades de filtrar por año *filter*.\n",
    "* Separar nombres compuestos (nombre, cantidad, anio) -> (primero, segundo, cantidad, anio).\n",
    "* Contar nombres *reduce*.\n",
    "* Normalizar nombres, pasar los nombres a una forma canonica que simplifique la comparación.\n",
    "* Buscar nombres derivados o proximos usando la distancia de levenshtein\n",
    "* Inferir generos"
   ]
  }
 ],
 "metadata": {
  "kernelspec": {
   "display_name": "Python 3",
   "language": "python",
   "name": "python3"
  },
  "language_info": {
   "codemirror_mode": {
    "name": "ipython",
    "version": 3
   },
   "file_extension": ".py",
   "mimetype": "text/x-python",
   "name": "python",
   "nbconvert_exporter": "python",
   "pygments_lexer": "ipython3",
   "version": "3.6.2"
  }
 },
 "nbformat": 4,
 "nbformat_minor": 2
}
