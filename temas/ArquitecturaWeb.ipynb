{
 "cells": [
  {
   "cell_type": "markdown",
   "metadata": {},
   "source": [
    "# Arquitectura WEB\n",
    "\n",
    "Introducción a la arquitectura web, APIs y REST. \n",
    "    Modelo cliente servidor, stateless\n",
    "    \n",
    "    Peticion respuesta (Request, Response)\n",
    "    Nociones de HTTP, metodos, headers, url, querystring\n",
    "    \n",
    "    Nociones de servicios web, \n",
    "\n",
    "    REST (Representational State Transfer)\n",
    "    \n",
    "Nociones de frameworks web, presentación de Flask.\n",
    "\n",
    "Partes básicas de un framework web (MVC, ruteo, plantillas, estáticos, etc)\n",
    "\n",
    "Conceptos básicos de Flask\n",
    "\n",
    "Material: https://blog.miguelgrinberg.com/post/designing-a-restful-api-with-python-and-flask\n",
    "Acá habría que mostrar un ejemplo genérico de Flask con un poco de JSON. En la clase siguiente plantamos las bases para la app app que queremos pensando en REST\n",
    "Modules para ver ese dia: urllib, httpie, http-prompt, flask"
   ]
  },
  {
   "cell_type": "markdown",
   "metadata": {},
   "source": [
    "Introducción\n",
    "Escenario cliente-servidor\n",
    "\n",
    "Protocolos y lenguajes básicos\n",
    "Protocolo HTTP, URL\n",
    "\n",
    "Programación del lado servidor\n",
    "Historia, Server Side Includes, Scripts CGI,\n",
    "\n",
    "Frameworks para la Web\n",
    "Conceptos, MVC, Frameworks: CakePHP, Joomla!,\n",
    "Drupal, Sinfony, CodeIgniter, Jakarta Struts, etc\n",
    "\n",
    "Servicios Web\n",
    "XML-RPC, REST, SOAP, WSDL, UDDI"
   ]
  },
  {
   "cell_type": "markdown",
   "metadata": {},
   "source": [
    "### Sobre la arquitectura cliente / servidor\n",
    "\n",
    "La web se basa en una arquitectura cliente / servidor.\n",
    "\n",
    "* Un **cliente** (normalmente un navegador Web) envía una petición a un servidor utilizando el protocolo **HTTP**\n",
    "* El **servidor** responde a la solicitud utilizando el mismo protocolo.\n",
    "\n",
    "Un esquema básico de la arquitectura cliente Web / servidor\n",
    "\n",
    "![Request/Response](../imagenes/client-server.png)"
   ]
  },
  {
   "cell_type": "markdown",
   "metadata": {},
   "source": [
    "### HTTP - Hypertext Transfer Protocol\n",
    "\n",
    "HTTP es el protocolo de red para la Web y define:\n",
    "\n",
    "* Tipo y estructura de los mensajes\n",
    "* Reglas de diálogo\n",
    "\n",
    "Trabaja en capa de aplicación para la entrega de documentos o recursos ubicables por medio del **URL**\n",
    "\n",
    "HTTP es un protocolo sin estado, o *stateless protocol*: no mantiene información sobre la conección entre transacciones."
   ]
  },
  {
   "cell_type": "markdown",
   "metadata": {
    "collapsed": true
   },
   "source": [
    "### URLs\n",
    "\n",
    "El nombre estandarizado de un recurso en Internet, que lo identifica unívocamente se denomina URL - Uniform Resource Locator.\n",
    "\n",
    "Una URL describe el recurso por su locación (dónde está) y el protocolo que se entiende para obtenerlo (HTTP, HTTPS, FTP, SMTP, etc).\n",
    "\n",
    "`<scheme>://<user>:<password>@<host>:<port>/<path>;<params>?<query>#<frag>`\n",
    "\n",
    "* `<scheme>` Protocolo para acceder al recurso\n",
    "* `<user>:<password>` Usuario y password requerido para acceder al recurso\n",
    "* `<host>:<port>` Nombre del host o dirección IP del servidor que tiene el recurso + port\n",
    "* `<path>` Nombre local del recurso\n",
    "* `<params>` Parámetros de entrada para el recurso\n",
    "* `<query>` Parámetros de entrada para el recurso\n",
    "* `<frag>` Referencia a una porción del recurso (de uso para el cliente)"
   ]
  },
  {
   "attachments": {},
   "cell_type": "markdown",
   "metadata": {},
   "source": [
    "### Mensajes HTTP\n",
    "\n",
    "Como protocolo de comunicación, HTTP define el tipo y estructura de los mensajes que se envían y las reglas del diálogo entre los dos participantes.\n",
    "\n",
    "* mensajes hacia el servidor **requests**\n",
    "* mensajes desde el servidor **responses**\n",
    "\n",
    "La estructura de los mensajes es la misma para todos\n",
    "\n",
    "![Mensajes](../imagenes/HTTP-Msg-Structure.png)\n",
    "\n",
    "Una línea inicial de request tiene tres partes:\n",
    "* El nombre del método, en mayúsculas.\n",
    "* El path local del recurso solicitado\n",
    "* La versión de HTTP utilizada.\n",
    "\n",
    "`GET /path/index.html HTTP/1.0`\n",
    "`POST signup.php HTTP/1.0`\n",
    "\n",
    "Una línea inicial de response tiene tres partes:\n",
    "* La versión HTTP\n",
    "* El código de status de la respuesta\n",
    "* Descripción del status\n",
    "`HTTP/1.0 200 OK`\n",
    "`HTTP/1.0 404 Not Found`\n",
    "\n",
    "El primer dígito del código de status identifica la categoría:\n",
    "* 1xx indica un mensaje de información únicamente\n",
    "* 2xx indica éxito en general\n",
    "  * `200 OK`\n",
    "* 3xx redirecciona el cliente a otro URL\n",
    "  * `301 Moved Permanently`\n",
    "  * `302 Moved Temporarily`\n",
    "* 4xx indica un error en la parte del cliente\n",
    "  * `404 Not Found`\n",
    "* 5xx indicates un error en la parte del servidor\n",
    "  * `500 Server Error`"
   ]
  },
  {
   "cell_type": "markdown",
   "metadata": {},
   "source": [
    "### Métodos HTTP\n",
    "\n",
    "* **GET** Obtiene un documento del servidor. El mensaje no tiene cuerpo.\n",
    "* **POST** Envía datos al servidor para el procesamiento. Los datos se especifican en el cuerpo del mensaje.\n",
    "* **HEAD** Solicita solo los encabezados de un documento. El mensaje no tiene cuerpo.\n",
    "* **PUT** Almacena el cuerpo del request en el servidor, bajo el nombre indicado como URL.\n",
    "* **TRACE** Hace un rastreo del mensaje al servidor. El mensaje no tiene cuerpo\n",
    "* **OPTIONS** Determina qué métodos pueden operar en un servidor. El mensaje no tiene cuerpo\n",
    "* **DELETE** Remueve un documento del servidor. El mensaje no tiene cuerpo"
   ]
  },
  {
   "cell_type": "markdown",
   "metadata": {},
   "source": [
    "#### Ejemplos (http-prompt)\n",
    "\n",
    "* http://www.dit.ing.unp.edu.ar/\n",
    "* http://www.google.com\n",
    "* http://httpbin.org"
   ]
  }
 ],
 "metadata": {
  "kernelspec": {
   "display_name": "Python 3",
   "language": "python",
   "name": "python3"
  },
  "language_info": {
   "codemirror_mode": {
    "name": "ipython",
    "version": 3
   },
   "file_extension": ".py",
   "mimetype": "text/x-python",
   "name": "python",
   "nbconvert_exporter": "python",
   "pygments_lexer": "ipython3",
   "version": "3.6.2"
  }
 },
 "nbformat": 4,
 "nbformat_minor": 2
}
