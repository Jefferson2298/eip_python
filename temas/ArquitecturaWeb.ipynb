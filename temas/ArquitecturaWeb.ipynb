{
 "cells": [
  {
   "cell_type": "markdown",
   "metadata": {},
   "source": [
    "# Arquitectura WEB\n",
    "Introducción a la arquitectura web, APIs y REST. \n",
    "    Modelo cliente servidor, stateless\n",
    "    Peticion respuesta (Request, Response)\n",
    "    Nociones de HTTP, metodos, headers, url, querystring\n",
    "    Nociones de servicios web, \n",
    "    REST (Representational State Transfer)\n",
    "    \n",
    "Nociones de frameworks web, presentación de Flask.\n",
    "Partes básicas de un framework web (MVC, ruteo, plantillas, estáticos, etc)\n",
    "Conceptos básicos de Flask\n",
    "\n",
    "Material: https://blog.miguelgrinberg.com/post/designing-a-restful-api-with-python-and-flask\n",
    "Acá habría que mostrar un ejemplo genérico de Flask con un poco de JSON. En la clase siguiente plantamos las bases para la app app que queremos pensando en REST\n",
    "Modules para ver ese dia: urllib, httpie, http-prompt, flask"
   ]
  },
  {
   "cell_type": "markdown",
   "metadata": {},
   "source": [
    "Introducción\n",
    "Escenario cliente-servidor\n",
    "World Wide Web, Servidores, etc\n",
    "\n",
    "Protocolos y lenguajes básicos\n",
    "Protocolo HTTP, URL,\n",
    "estandares (X)HTML, DOM, etc\n",
    "\n",
    "Programación del lado servidor\n",
    "Historia, Server Side Includes, Scripts CGI,\n",
    "PHP, operaciones tradicionales: procesamiento de\n",
    "formularios, sesiones, uploads, etc\n",
    "\n",
    "Frameworks para la Web\n",
    "Conceptos, MVC, Frameworks: CakePHP, Joomla!,\n",
    "Drupal, Sinfony, CodeIgniter, Jakarta Struts, etc\n",
    "\n",
    "Servicios Web\n",
    "XML-RPC, REST, SOAP, WSDL, UDDI"
   ]
  },
  {
   "cell_type": "markdown",
   "metadata": {},
   "source": [
    "### Sobre la arquitectura cliente / servidor\n",
    "\n",
    "La web se basa en una arquitectura cliente / servidor.\n",
    "\n",
    "* Un **cliente** (normalmente un navegador Web) envía una petición a un servidor utilizando el protocolo HTTP\n",
    "* El **servidor** responde a la solicitud utilizando el mismo protocolo.\n",
    "\n",
    "Un esquema básico de la arquitectura cliente Web / servidor\n",
    "\n",
    "![Request/Response](../imagenes/client-server.png)"
   ]
  },
  {
   "attachments": {},
   "cell_type": "markdown",
   "metadata": {},
   "source": [
    "### HTTP - Hypertext Transfer Protocol\n",
    "\n",
    "HTTP es el protocolo de red para la Web, define:\n",
    "\n",
    "* Tipo y estructura de los mensajes\n",
    "* Reglas de diálogo\n",
    "\n",
    "Trabaja en capa de aplicación para la entrega de documentos o recursos ubicables por medio del **URL**\n",
    "\n",
    "HTTP es un protocolo sin estado, o stateless protocol: no mantiene información sobre la conección entre transacciones."
   ]
  },
  {
   "cell_type": "code",
   "execution_count": null,
   "metadata": {
    "collapsed": true
   },
   "outputs": [],
   "source": []
  }
 ],
 "metadata": {
  "kernelspec": {
   "display_name": "Python 3",
   "language": "python",
   "name": "python3"
  },
  "language_info": {
   "codemirror_mode": {
    "name": "ipython",
    "version": 3
   },
   "file_extension": ".py",
   "mimetype": "text/x-python",
   "name": "python",
   "nbconvert_exporter": "python",
   "pygments_lexer": "ipython3",
   "version": "3.6.2"
  }
 },
 "nbformat": 4,
 "nbformat_minor": 2
}
