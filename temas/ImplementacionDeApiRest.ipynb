{
 "cells": [
  {
   "cell_type": "markdown",
   "metadata": {},
   "source": [
    "# Implementación de API REST\n",
    "\n",
    "Implementación de una API REST utilizando Flask.\n",
    "    Documentacion de apis\n",
    "Presentación y estructuración del trabajo final.\n",
    "\n",
    "Modules para ver ese dia: flask-restful, flask-restful-swagger\n",
    "Material: https://blog.miguelgrinberg.com/post/designing-a-restful-api-with-python-and-flask"
   ]
  },
  {
   "cell_type": "markdown",
   "metadata": {},
   "source": [
    "Servicios Web\n",
    "XML-RPC, REST, SOAP, WSDL, UDDI"
   ]
  }
 ],
 "metadata": {
  "kernelspec": {
   "display_name": "Python 3",
   "language": "python",
   "name": "python3"
  },
  "language_info": {
   "codemirror_mode": {
    "name": "ipython",
    "version": 3
   },
   "file_extension": ".py",
   "mimetype": "text/x-python",
   "name": "python",
   "nbconvert_exporter": "python",
   "pygments_lexer": "ipython3",
   "version": "3.6.2"
  }
 },
 "nbformat": 4,
 "nbformat_minor": 2
}
