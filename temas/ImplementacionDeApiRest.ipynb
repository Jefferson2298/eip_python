{
 "cells": [
  {
   "cell_type": "markdown",
   "metadata": {},
   "source": [
    "# Implementación de API REST\n",
    "\n",
    "Implementación de una API REST utilizando Flask.\n",
    "    Documentacion de apis\n",
    "Presentación y estructuración del trabajo final.\n",
    "\n",
    "Modules para ver ese dia: flask-restful, flask-restful-swagger\n",
    "Material: https://blog.miguelgrinberg.com/post/designing-a-restful-api-with-python-and-flask"
   ]
  },
  {
   "cell_type": "markdown",
   "metadata": {},
   "source": [
    "# ¿Qué es REST?\n",
    "\n",
    "> La **Transferencia de Estado Representacional** (Representational State Transfer) o **REST** es un estilo de arquitectura software para sistemas hipermedia distribuidos como la World Wide Web.\n",
    "\n",
    "Existen, otros tipos de métodos para implementar servicios web, como **RPC**, **SOAP** o **WSDL**. Sin embargo, el uso de dichos mecanismos no se suele recomendar en favor de RESTful, ya que RESTful es mucho más fácil de entender e implementar.\n",
    "\n",
    "Características del diseño de la arquitectura REST:\n",
    "1. **Cliente/Servidor** separación clara entre los dos agentes básicos en el intercambio de información.\n",
    "1. **Stateless** el servidor no tiene porqué almacenar datos del cliente para mantener un estado del mismo.\n",
    "1. **Cacheable** el servidor debe poder definir algún modo de cachear dichas peticiones, para aumentar el rendimiento, escalabilidad, etc.\n",
    "1. **Sistema por capas** el cliente no necesita saber cuales son las capas implicadas en la obtención de la información.\n",
    "1. **Interfaz uniforme** la interfaz de comunicación entre un cliente y el servidor no debe depender ni del servidor ni del cliente, se debe cumplir una interfaz definida de antemano\n",
    "\n",
    "Estos principios de diseño ya vienen dados por el uso del protocolo **HTTP** ya que:\n",
    "\n",
    "* **Identificación de recursos** una aplicación REST debe poder identificar sus recursos de manera uniforme. HTTP implementa esto usando las llamadas URIs o las tradicionales [URLs](https://es.wikipedia.org/wiki/Localizador_de_recursos_uniforme).\n",
    "* **Recursos y representaciones:** REST define también la manera en que podemos interactuar con la representación de un recurso, ya sea para crearlo, obtenerlo, editarlo o borrarlo. HTTP define distintos verbos y un contenido en la respuesta lo que permite modelar las operaciones con el recurso en el caso de que tengamos permiso para hacerlo.\n",
    "* **Mensajes autodescriptivos** cuando se hacen peticiones a un servidor, éste debería devolver una respuesta que permita entender sin lugar a duda cual ha sido el resultado de la operación, así como si dicha operación es cacheable, si ha habido algún error, etc. HTTP implementa esto a través del estado y una serie de cabeceras. El uso de las cabeceras depende de la implementación, REST no fuerza el contenido de las cabeceras, aunque existen algunas convenciones [básicas](http://www.restapitutorial.com/httpstatuscodes.html).\n",
    "* **HATEOAS** es la necesidad de incluir en las respuestas del servidor toda aquella información que necesita el cliente para seguir operando con el servicio web. La mayoría de servicios web no cumplen con esta necesidad. \n",
    "\n",
    "```json\n",
    "{\n",
    "    \"id\": 4,\n",
    "    \"nombre\": \"Juan\",\n",
    "    \"apellido\": \"Carlos\",\n",
    "    \"coches\": [\n",
    "    \t{\n",
    "    \t\t\"id\": 1253\n",
    "    \t}\n",
    "    ]\n",
    "}\n",
    "```\n",
    "\n",
    "```json\n",
    "{\n",
    "    \"id\": 78,\n",
    "    \"nombre\": \"Juan\",\n",
    "    \"apellido\": \"García\",\n",
    "    \"coches\": [\n",
    "    \t{\n",
    "    \t\t\"coche\": \"http://miservidor/concesionario/api/v1/clientes/78/coches/1033\"\n",
    "    \t}\n",
    "    ]\n",
    "}\n",
    "```\n",
    "\n",
    "# ¿Qué es un recurso?\n",
    "\n",
    "\n",
    "# ¿Qué es un servicio web RESTful?\n",
    "\n",
    "* **GET** - Obtener información sobre un recurso - http://api.com/api/orders (recuperar la lista de pedidos)\n",
    "* **GET** - Obtener información sobre un recurso - http://api.com/api/orders/123 (recuperar orden # 123)\n",
    "* **POST** - Crear un nuevo recurso\t- http://api.com/api/orders (crear un nuevo pedido, a partir de los datos proporcionados con la solicitud)\n",
    "* **PUT** - Actualizar un recurso - http://api.com/api/orders/123 (actualización de la orden # 123, a partir de los datos proporcionados con la solicitud)\n",
    "* **DELETE** - Eliminar un recurso - http://api.com/api/orders/123 (borrar pedido # 123)\n",
    "\n",
    "# Servicio web sencillo\n",
    "\n",
    "* [A RESTful Tutorial](http://www.restapitutorial.com/)"
   ]
  }
 ],
 "metadata": {
  "kernelspec": {
   "display_name": "Python 3",
   "language": "python",
   "name": "python3"
  },
  "language_info": {
   "codemirror_mode": {
    "name": "ipython",
    "version": 3
   },
   "file_extension": ".py",
   "mimetype": "text/x-python",
   "name": "python",
   "nbconvert_exporter": "python",
   "pygments_lexer": "ipython3",
   "version": "3.6.2"
  }
 },
 "nbformat": 4,
 "nbformat_minor": 2
}
