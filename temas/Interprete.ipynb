{
 "cells": [
  {
   "cell_type": "markdown",
   "metadata": {},
   "source": [
    "# Usando el intérprete de Python"
   ]
  },
  {
   "cell_type": "markdown",
   "metadata": {},
   "source": [
    "## Invocando al intérprete"
   ]
  },
  {
   "cell_type": "markdown",
   "metadata": {},
   "source": [
    "Por lo general, el intérprete de Python se instala en /usr/local/bin/python3.5 en las máquinas dónde está disponible; poner /usr/local/bin en el camino de búsqueda de tu intérprete de comandos Unix hace posible iniciarlo ingresando la orden"
   ]
  },
  {
   "cell_type": "markdown",
   "metadata": {},
   "source": [
    "<pre>python3.5</pre>"
   ]
  },
  {
   "cell_type": "markdown",
   "metadata": {},
   "source": [
    "...en la terminal. Ya que la elección del directorio dónde vivirá el intérprete es una opción del proceso de instalación, puede estar en otros lugares (Por ejemplo, /usr/local/python es una alternativa popular).\n",
    "\n",
    "En máquinas con Windows, la instalación de Python por lo general se encuentra en C:\\Python35, aunque se puede cambiar durante la instalación. Para añadir este directorio al camino, se puede ingresar la siguiente orden en el prompt de DOS"
   ]
  },
  {
   "cell_type": "markdown",
   "metadata": {},
   "source": [
    "<pre>set path=%path%;C:\\python35</pre>"
   ]
  },
  {
   "cell_type": "markdown",
   "metadata": {},
   "source": [
    "Se puede salir del intérprete con estado de salida cero ingresando el carácter de fin de archivo (Control-D en Unix, Control-Z en Windows) en el prompt primario. Si esto no funciona, se puede salir del intérprete ingresando **quit()**.\n",
    "\n",
    "Las características para editar líneas del intérprete incluyen edición interactiva, sustitución usando el historial y completado de código en sistemas que soportan readline. Tal vez la forma más rápida de detectar si las características de edición están presentes es ingresar Control-P en el primer prompt de Python que aparezca. Si se escucha un beep, las características están presentes. Si no pasa nada, o si aparece ^P, estas características no están disponibles.\n",
    "\n",
    "La forma de operar del intérprete es parecida a la línea de comandos de Unix: cuando se la llama con la entrada estándar conectada a una terminal lee y ejecuta comandos en forma interactiva; cuando es llamada con un nombre de archivo como argumento o con un archivo como entrada estándar, lee y ejecuta un script del archivo.\n",
    "\n",
    "Una segunda forma de iniciar el intérprete es **python -c comando [arg]** ..., que ejecuta las sentencias en comando. Ya que las sentencias de Python suelen tener espacios en blanco u otros caracteres que son especiales en la línea de comandos, es normalmente recomendado citar comando entre comillas dobles.\n",
    "\n",
    "Algunos módulos de Python son también útiles como scripts. Pueden invocarse usando **python -m module [arg]** ..., que ejecuta el código de module como si se hubiese ingresado su nombre completo en la línea de comandos.\n",
    "\n",
    "Cuando se usa un script, a veces es útil correr primero el script y luego entrar al modo interactivo. Esto se puede hacer pasándole la opción -i antes del nombre del script."
   ]
  },
  {
   "cell_type": "markdown",
   "metadata": {},
   "source": [
    "## Pasaje de argumentos"
   ]
  },
  {
   "cell_type": "markdown",
   "metadata": {},
   "source": [
    "Cuando son conocidos por el intérprete, el nombre del script y los argumentos adicionales son entonces convertidos a una lista de cadenas de texto asignada a la variable **argv** del módulo **sys**. Se puede acceder a esta lista haciendo **import sys**. El largo de esta lista es al menos uno; cuando ningún script o argumentos son pasados, **sys.argv[0]** es una cadena vacía. Cuando se pasa el nombre del script con '-' (lo que significa la entrada estándar), **sys.argv[0]** vale '-'. Cuando se usa -c command, **sys.argv[0]** vale '-c'. Cuando se usa -m module, **sys.argv[0]** toma el valor del nombre completo del módulo. Las opciones encontradas luego de -c command o -m module no son consumidas por el procesador de opciones de Python pero de todas formas almacenadas en **sys.argv** para ser manejadas por el comando o módulo"
   ]
  },
  {
   "cell_type": "markdown",
   "metadata": {},
   "source": [
    "## Modo interactivo"
   ]
  },
  {
   "cell_type": "markdown",
   "metadata": {},
   "source": [
    "Se dice que estamos usando el intérprete en modo interactivo, cuando los comandos son leídos desde una terminal. En este modo espera el siguiente comando con el prompt primario, usualmente tres signos mayor-que **(>>>)**; para las líneas de continuación espera con el prompt secundario, por defecto tres puntos **(...)**. Antes de mostrar el prompt primario, el intérprete muestra un mensaje de bienvenida reportando su número de versión y una nota de copyright"
   ]
  },
  {
   "cell_type": "markdown",
   "metadata": {},
   "source": [
    "<pre>$ python3.5\n",
    "Python 3.5 (default, Sep 16 2014, 09:25:04)\n",
    "[GCC 4.8.2] on linux\n",
    "Type \"help\", \"copyright\", \"credits\" or \"license\" for more information.\n",
    ">>></pre>"
   ]
  },
  {
   "cell_type": "markdown",
   "metadata": {},
   "source": [
    "Las líneas de continuación son necesarias cuando queremos ingresar un constructor multilínea"
   ]
  },
  {
   "cell_type": "markdown",
   "metadata": {},
   "source": [
    "<pre>>>> el_mundo_es_plano = True\n",
    ">>> if el_mundo_es_plano:\n",
    "...     print(\"¡Tené cuidado de no caerte!\")\n",
    "...\n",
    "¡Tené cuidado de no caerte!</pre>"
   ]
  },
  {
   "cell_type": "markdown",
   "metadata": {},
   "source": [
    "# El intérprete y su entorno"
   ]
  },
  {
   "cell_type": "markdown",
   "metadata": {},
   "source": [
    "## Codificación del código fuente"
   ]
  },
  {
   "cell_type": "markdown",
   "metadata": {},
   "source": [
    "Por defecto, los archivos fuente de Python son tratados como codificados en UTF-8. En esa codificación, los caracteres de la mayoría de los lenguajes del mundo pueden ser usados simultáneamente en literales, identificadores y comentarios, a pesar de que la biblioteca estándar usa solamente caracteres ASCII para los identificadores, una convención que debería seguir cualquier código que sea portable. Para mostrar estos caracteres correctamente, tu editor debe reconocer que el archivo está en UTF-8 y usar una tipografía que soporte todos los careacteres del archivo.\n",
    "\n",
    "También es posible especificar una codificación distinta para los archivos fuente. Para hacer esto, se debe poner una o más lineas de comentarios especiales luego de la linea del #! para definir la codificación del archivo fuente"
   ]
  },
  {
   "cell_type": "markdown",
   "metadata": {},
   "source": [
    "<pre># -*- coding: encoding -*-</pre>"
   ]
  },
  {
   "cell_type": "markdown",
   "metadata": {},
   "source": [
    "Con esa declaración, todo en el archivo fuente será tratado utilizando la codificación encoding en lugar de UTF-8. La lista de posibles codificaciones se puede encontrar en la Referencia de la Biblioteca de Python, en la sección sobre codecs"
   ]
  }
 ],
 "metadata": {
  "anaconda-cloud": {},
  "kernelspec": {
   "display_name": "Python [conda env:notebook]",
   "language": "python",
   "name": "conda-env-notebook-py"
  },
  "language_info": {
   "codemirror_mode": {
    "name": "ipython",
    "version": 3
   },
   "file_extension": ".py",
   "mimetype": "text/x-python",
   "name": "python",
   "nbconvert_exporter": "python",
   "pygments_lexer": "ipython3",
   "version": "3.5.2"
  }
 },
 "nbformat": 4,
 "nbformat_minor": 1
}
