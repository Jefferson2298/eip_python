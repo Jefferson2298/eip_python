{
 "cells": [
  {
   "cell_type": "markdown",
   "metadata": {},
   "source": [
    "# Introduccion"
   ]
  },
  {
   "cell_type": "markdown",
   "metadata": {},
   "source": [
    "## ¿Qué es Python?"
   ]
  },
  {
   "cell_type": "markdown",
   "metadata": {},
   "source": [
    "* Lenguaje de programación dinámico, interpretado y fácil de aprender\n",
    "* Creado por Guido van Rossum en 1991\n",
    "* Ampliamente utilizado en ciencia e ingeniería\n",
    "* Multitud de bibliotecas para realizar diferentes tareas"
   ]
  },
  {
   "cell_type": "markdown",
   "metadata": {},
   "source": [
    "Python es un lenguaje de programación, y por lo tanto nos permite escribir a una computadora qué es lo que queremos que haga. Python funciona, entre otros, en Windows, MacOS e incluso Linux. No es el lenguaje de programación más rápido, ni el más potente, pero sí uno de los más sencillos de programar y de entender, y es por eso que frecuentemente se usa para enseñar a programar a niños.\n",
    "\n",
    "Los archivos de python tienen la extensión .py. Son archivos de texto que son interpretados por el compilador. Para poder ejecutar programas en Python, necesitamos en primer lugar el interprete de python, y en segundo lugar el código que queremos ejecutar.\n",
    "\n",
    "Python dispone de multitud de “plugins” (llamados habitualmente módulos, paquetes, bibiliotecas o librerías) desarrollados por terceros, que permiten realizar multitud de funciones, tales como descargar vídeos de youtube, navegar por internet, dibujar gráficos, etc.\n",
    "\n",
    "Python es “case sensitive”, lo que quiere decir que diferencia mayúsculas de minúsculas, y por lo tanto python y Python, no son lo mismo."
   ]
  },
  {
   "cell_type": "markdown",
   "metadata": {},
   "source": [
    "## ¿Qué versión de Python hay que usar?"
   ]
  },
  {
   "cell_type": "markdown",
   "metadata": {},
   "source": [
    "La última versión de Python es la 3, pero tiene el problema de que no es compatible del todo con los programas escritos para la versión 2 scream.\n",
    "\n",
    "La versión 2.7 fue la última de la familia 2.x, y se considera obsoleta. A pesar de que la versión 3 existe desde hace bastantes años, la 2 todavía se usa bastante ya que algunas librerías externas (como por ejemplo Mechanize) no han sido adaptadas para funcionar con la versión 3. :mrgreen:.\n",
    "\n",
    "Mi recomendación es descargarse la versión 3, aunque los ejemplos que ejercicios que tenéis en este curso de Python, están preparados para funcionar en ambas versiones."
   ]
  },
  {
   "cell_type": "markdown",
   "metadata": {},
   "source": [
    "## El zen de Python"
   ]
  },
  {
   "cell_type": "code",
   "execution_count": 1,
   "metadata": {
    "collapsed": false
   },
   "outputs": [
    {
     "name": "stdout",
     "output_type": "stream",
     "text": [
      "The Zen of Python, by Tim Peters\n",
      "\n",
      "Beautiful is better than ugly.\n",
      "Explicit is better than implicit.\n",
      "Simple is better than complex.\n",
      "Complex is better than complicated.\n",
      "Flat is better than nested.\n",
      "Sparse is better than dense.\n",
      "Readability counts.\n",
      "Special cases aren't special enough to break the rules.\n",
      "Although practicality beats purity.\n",
      "Errors should never pass silently.\n",
      "Unless explicitly silenced.\n",
      "In the face of ambiguity, refuse the temptation to guess.\n",
      "There should be one-- and preferably only one --obvious way to do it.\n",
      "Although that way may not be obvious at first unless you're Dutch.\n",
      "Now is better than never.\n",
      "Although never is often better than *right* now.\n",
      "If the implementation is hard to explain, it's a bad idea.\n",
      "If the implementation is easy to explain, it may be a good idea.\n",
      "Namespaces are one honking great idea -- let's do more of those!\n"
     ]
    }
   ],
   "source": [
    "import this"
   ]
  },
  {
   "cell_type": "markdown",
   "metadata": {},
   "source": [
    "## ¿Qué es IPython?"
   ]
  },
  {
   "cell_type": "markdown",
   "metadata": {},
   "source": [
    "IPython no es más que un intérprete de Python con algunas mejoras sustanciales, pero además su interfaz notebook es más cómoda de manejar que la línea de comandos y nos da un poco más de flexibilidad."
   ]
  },
  {
   "cell_type": "markdown",
   "metadata": {},
   "source": [
    "### Notebook de IPython"
   ]
  },
  {
   "cell_type": "markdown",
   "metadata": {},
   "source": [
    "Será nuestra herramienta de trabajo durante el taller. Esto que estás leyendo ahora no es más que un notebook de IPython, que como diremos luego además de código puede contener texto e imágenes. Pero veamos primero cómo funciona.\n",
    "Al iniciar el notebook de IPython, en la pantalla principal podemos ver una ruta y una lista de notebooks. Cada notebook es un archivo que está almacenado en el ordenador en la ruta que aparece. Si en esa carpeta no hay notebooks, veremos un mensaje indicando que la lista de notebooks está vacía.\n",
    "Al crear un notebook o al abrir uno nuevo se abre la interfaz de IPython propiamente dicha donde ya podemos empezar a trabajar. Es similar a un intérprete, pero está dividida en celdas. Las celdas pueden contener, código, texto, imágenes...\n",
    "Cada celda de código está marcada por la palabra In [<n>] y están numeradas. Tan solo tenemos que escribir el código en ella y hacer click arriba en Cell -> Run, el triángulo (\"Run cell\") o usar el atajo shift + Enter. El resultado de la celda se muestra en el campo Out [<n>], también numerado y coincidiendo con la celda que acabamos de ejecutar. Esto es importante, como ya veremos luego.\n",
    "Si en la barra superior seleccionas Markdown (o usas el atajo Shift-M) en lugar de Code puedes escribir texto:\n",
    "Hola! soy un ejemplo!\n",
    "También ecuaciones en latex y mucho más. Esto es una herramienta muy potente para explicar a alguien o a ti mismo lo que tu código hace, para hacer un informe, un trabajo, escribir en un blog...\n",
    "Markdown es un lenguaje aparte, no te preocupes por él demasiado ahora, irás aprendiendo sobre la marcha... Para cuando lo vayas necesitando, aquí tienes una chuleta.\n",
    "Puedes mover las celdas de un lugar a otro haciendo click en los botones de la barra de herramientas con flechitas.\n",
    "El Notebook tiene además numerosos atajos que irás aprendiendo sobre la marcha, puedes consultarlos en Help > Keyboard Shortcourts"
   ]
  },
  {
   "cell_type": "markdown",
   "metadata": {},
   "source": [
    "## Anaconda"
   ]
  },
  {
   "cell_type": "markdown",
   "metadata": {},
   "source": [
    "Aunque instalar Python en una computadora es bastante sencillo, en este primer bloque y, para asegurarnos de que nadie tiene problemas con la instalación y tira la toalla, vamos a usar una distribución de Python gratuita llamada Anaconda. Aunque está disponible sólo en inglés, esta distribución incluye multitud de utilidades que nos facilitarán el trabajo y es ideal para empezar. Para instalarla, sólo tienes que descargar la versión de Anaconda para tu sistema operativo desde su página web (te pedirá que tu dirección de email).\n",
    "\n",
    "Si en Windows, no sabéis si vuestra versión es de 32 o 64 bits, siempre podéis consultarlo en el sistema.\n",
    "\n",
    "IPython es un Python “interactivo” que nos va a facilitar mucho el aprendizaje. Vemos que Anaconda ha instalado tres “sabores” de IPython diferentes. Vamos a ejecutar IPython Notebook, y se abrirá una ventana nueva en el navegador de internet."
   ]
  },
  {
   "cell_type": "markdown",
   "metadata": {},
   "source": [
    "## Instalar\n",
    "\n",
    "> export PATH=\"/home/username/anaconda/bin:$PATH\""
   ]
  },
  {
   "cell_type": "markdown",
   "metadata": {},
   "source": [
    "## Administrar ambientes\n",
    "\n",
    "### Crear\n",
    "> conda create --name snowflakes biopython\n",
    "\n",
    "### Activar\n",
    "\n",
    "Linux, OS X: source activate snowflakes\n",
    "Windows: activate snowflakes\n"
   ]
  }
 ],
 "metadata": {
  "anaconda-cloud": {},
  "kernelspec": {
   "display_name": "Python 3",
   "language": "python",
   "name": "python3"
  },
  "language_info": {
   "codemirror_mode": {
    "name": "ipython",
    "version": 3
   },
   "file_extension": ".py",
   "mimetype": "text/x-python",
   "name": "python",
   "nbconvert_exporter": "python",
   "pygments_lexer": "ipython3",
   "version": "3.5.2"
  }
 },
 "nbformat": 4,
 "nbformat_minor": 1
}
