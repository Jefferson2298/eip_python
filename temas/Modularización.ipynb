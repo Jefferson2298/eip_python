{
 "cells": [
  {
   "cell_type": "markdown",
   "metadata": {},
   "source": [
    "# Modularización"
   ]
  },
  {
   "cell_type": "markdown",
   "metadata": {},
   "source": [
    "La modularización tiene como objetivo brindar una mecánica para organizar el código en múltiples archivos y permitir su importación total o parcial dónde sea requerido.\n",
    "\n",
    "\n",
    "#### Con las pilas incluidas!\n",
    "La [biblioteca estándar de Python](https://docs.python.org/3/library/index.html) es un ejemplo de una colección de paquetes y módulos:\n",
    "\n",
    "* [`os`](https://docs.python.org/3/library/os.html) Interfase miscelanea con el sistema operativo.\n",
    "* [`csv`](https://docs.python.org/3/library/csv.html) Lector de archivos separados por coma.\n",
    "* [zlib](https://docs.python.org/3/library/zlib.html) [gzip](https://docs.python.org/3/library/zlib.html)\n",
    "[bz2](https://docs.python.org/3/library/zlib.html) [lzma](https://docs.python.org/3/library/lzma.html) [zipfile](https://docs.python.org/3/library/zipfile.html) [tarfile](https://docs.python.org/3/library/tarfile.html) Soporte de diversos formatos de compresión.\n",
    "* [string](https://docs.python.org/3/library/string.html)\n",
    "[re](https://docs.python.org/3/library/re.html)\n",
    "[difflib](https://docs.python.org/3/library/difflib.html)\n",
    "[textwrap](https://docs.python.org/3/library/textwrap.html)\n",
    "[unicodedata](https://docs.python.org/3/library/unicodedata.html)\n",
    "[stringprep](https://docs.python.org/3/library/stringprep.html)\n",
    "[readline](https://docs.python.org/3/library/readline.html)\n",
    "[rlcompleter](https://docs.python.org/3/library/rlcompleter.html) Operaciones sobre texto.\n",
    "* [struct](https://docs.python.org/3/library/struct.html)\n",
    "[codecs](https://docs.python.org/3/library/codecs.html) Manejo de datos binarios\n",
    "* [datetime](https://docs.python.org/3/library/datetime.html)\n",
    "[calendar](https://docs.python.org/3/library/calendar.html)\n",
    "[collections](https://docs.python.org/3/library/collections.html)\n",
    "[collections](https://docs.python.org/3/library/collections.html)\n",
    "[heapq](https://docs.python.org/3/library/heapq.html)\n",
    "[bisect](https://docs.python.org/3/library/bisect.html)\n",
    "[array](https://docs.python.org/3/library/array.html)\n",
    "[weakref](https://docs.python.org/3/library/weakref.html)\n",
    "[types](https://docs.python.org/3/library/types.html)\n",
    "[copy](https://docs.python.org/3/library/copy.html)\n",
    "[pprint](https://docs.python.org/3/library/pprint.html)\n",
    "[reprlib](https://docs.python.org/3/library/reprlib.html)\n",
    "[enum](https://docs.python.org/3/library/enum.html) Tipos de datos\n",
    "* Entre muchos otros!\n"
   ]
  },
  {
   "cell_type": "markdown",
   "metadata": {},
   "source": [
    "# ¿Cómo se crea un módulo?\n",
    "\n",
    "En Python un módulo es cualquier archivo. El nombre del archivo es el nombre del módulo con el sufijo .py agregado. Dentro de un módulo, el nombre del mismo está disponible en el valor de la variable global \\_\\_name\\_\\_. Por ejemplo consideremos el ejemplo un archivo con el nombre `fechas.py` con el siguiente código (a partir de ahora archivo y módulo serán palabras equivalentes prefiriendo ésta última):\n",
    "\n",
    "```python\n",
    "# fechas.py\n",
    "from datetime import datetime\n",
    "\n",
    "def edad_en_dias(fecha_de_nacimiento):\n",
    "    ahora = datetime.now()\n",
    "    edad = ahora - fecha_de_nacimiento\n",
    "    return edad.days\n",
    "\n",
    "```\n",
    "* Un **paquete** es una carpeta que al menos contiene un archivo **``__init__.py``** y puede contener otros módulos"
   ]
  },
  {
   "cell_type": "code",
   "execution_count": 38,
   "metadata": {
    "collapsed": false
   },
   "outputs": [],
   "source": [
    "import fechas"
   ]
  },
  {
   "cell_type": "markdown",
   "metadata": {},
   "source": [
    "Esto no mete los nombres de las funciones definidas en fecha directamente en el espacio de nombres actual; sólo mete ahí el nombre del módulo, fechas. Usando el nombre del módulo se puede acceder a las funciones"
   ]
  },
  {
   "cell_type": "code",
   "execution_count": 39,
   "metadata": {
    "collapsed": false
   },
   "outputs": [
    {
     "data": {
      "text/plain": [
       "13070"
      ]
     },
     "execution_count": 39,
     "metadata": {},
     "output_type": "execute_result"
    }
   ],
   "source": [
    "from datetime import datetime\n",
    "fechas.edad_en_dias(datetime(1980, 12, 8))"
   ]
  },
  {
   "cell_type": "markdown",
   "metadata": {},
   "source": [
    "# Más sobre los módulos"
   ]
  },
  {
   "cell_type": "markdown",
   "metadata": {},
   "source": [
    "Un módulo puede contener tanto declaraciones ejecutables como definiciones de funciones. Estas declaraciones están pensadas para inicializar el módulo. Se ejecutan solamente la primera vez que el módulo se encuentra en una sentencia import.\n",
    "\n",
    "Cada módulo tiene su propio espacio de nombres, el que es usado como espacio de nombres global por todas las funciones definidas en el módulo. Por lo tanto, el autor de un módulo puede usar variables globales en el módulo sin preocuparse acerca de conflictos con una variable global del usuario. Por otro lado, si sabés lo que estás haciendo podés tocar las variables globales de un módulo con la misma notación usada para referirte a sus funciones, nombremodulo.nombreitem.\n",
    "\n",
    "Los módulos pueden importar otros módulos. Es costumbre pero no obligatorio el ubicar todas las declaraciones import al principio del módulo (o script, para el caso). Los nombres de los módulos importados se ubican en el espacio de nombres global del módulo que hace la importación.\n",
    "\n",
    "Hay una variante de la declaración import que importa los nombres de un módulo directamente al espacio de nombres del módulo que hace la importación"
   ]
  },
  {
   "cell_type": "code",
   "execution_count": 26,
   "metadata": {
    "collapsed": false
   },
   "outputs": [
    {
     "ename": "ImportError",
     "evalue": "cannot import name 'fib'",
     "output_type": "error",
     "traceback": [
      "\u001b[0;31m---------------------------------------------------------------------------\u001b[0m",
      "\u001b[0;31mImportError\u001b[0m                               Traceback (most recent call last)",
      "\u001b[0;32m<ipython-input-26-ea4fbb2cdc1a>\u001b[0m in \u001b[0;36m<module>\u001b[0;34m()\u001b[0m\n\u001b[0;32m----> 1\u001b[0;31m \u001b[0;32mfrom\u001b[0m \u001b[0mfibo\u001b[0m \u001b[0;32mimport\u001b[0m \u001b[0mfib\u001b[0m\u001b[0;34m,\u001b[0m \u001b[0mfib2\u001b[0m\u001b[0;34m\u001b[0m\u001b[0m\n\u001b[0m",
      "\u001b[0;31mImportError\u001b[0m: cannot import name 'fib'"
     ]
    }
   ],
   "source": [
    "from fibo import fib, fib2"
   ]
  },
  {
   "cell_type": "markdown",
   "metadata": {},
   "source": [
    "Esto no introduce en el espacio de nombres local el nombre del módulo desde el cual se está importando.\n",
    "\n",
    "Hay incluso una variante para importar todos los nombres que un módulo define"
   ]
  },
  {
   "cell_type": "code",
   "execution_count": 25,
   "metadata": {
    "collapsed": true
   },
   "outputs": [],
   "source": [
    "from fibo import *"
   ]
  },
  {
   "cell_type": "markdown",
   "metadata": {},
   "source": [
    "## Ejecutando módulos como scripts\n",
    "\n",
    "Cuando ejecutás un módulo de Python con\n",
    "\n",
    "```bash\n",
    "python fibo.py <argumentos>\n",
    "\n",
    "```\n",
    "...el código en el módulo será ejecutado, tal como si lo hubieses importado, pero con \\_\\_name\\_\\_ con el valor de \"\\_\\_main\\_\\_\". Eso significa que agregando este código al final del módulo:\n",
    "\n",
    "```python\n",
    "if __name__ == \"__main__\":\n",
    "    import sys\n",
    "    fib(int(sys.argv[1]))\n",
    "```\n",
    "...podés hacer que el archivo sea utilizable tanto como script, como módulo importable, porque el código que analiza la linea de órdenes sólo se ejecuta si el módulo es ejecutado como archivo principal:\n",
    "\n",
    "```bash\n",
    "$ python fibo.py 50\n",
    "```"
   ]
  },
  {
   "cell_type": "markdown",
   "metadata": {},
   "source": [
    "## El camino de búsqueda de los módulos\n",
    "\n",
    "Cuando se importa un módulo llamado spam, el intérprete busca primero por un módulo con ese nombre que esté integrado en el intérprete. Si no lo encuentra, entonces busca un archivo llamado spam.py en una lista de directorios especificada por la variable sys.path. sys.path se inicializa con las siguientes ubicaciones:\n",
    "\n",
    "* el directorio conteniendo el script (o el directorio actual cuando no se especifica un archivo).\n",
    "* PYTHONPATH (una lista de nombres de directorios, con la misma sintaxis que la variable de entorno PATH.\n",
    "* el directorio default de la instalación.\n",
    "\n",
    "Luego de la inicialización, los programas Python pueden modificar sys.path. El directorio que contiene el script que se está ejecutando se ubica al principio de la búsqueda, adelante de la biblioteca estándar. Esto significa que se cargarán scripts en ese directorio en lugar de módulos de la biblioteca estándar con el mismo nombre. Esto es un error a menos que se esté reemplazando intencionalmente. Mirá la sección Módulos estándar para más información."
   ]
  },
  {
   "cell_type": "code",
   "execution_count": 37,
   "metadata": {
    "collapsed": true
   },
   "outputs": [],
   "source": [
    "import sys\n",
    "sys.path.insert(1, '../codigo')"
   ]
  },
  {
   "cell_type": "markdown",
   "metadata": {},
   "source": [
    "# La función dir()\n",
    "\n",
    "La función integrada **dir()** se usa para encontrar qué nombres define un módulo. Devuelve una lista ordenada de cadenas"
   ]
  },
  {
   "cell_type": "code",
   "execution_count": 34,
   "metadata": {
    "collapsed": false
   },
   "outputs": [
    {
     "data": {
      "text/plain": [
       "['__builtins__',\n",
       " '__cached__',\n",
       " '__doc__',\n",
       " '__file__',\n",
       " '__loader__',\n",
       " '__name__',\n",
       " '__package__',\n",
       " '__spec__']"
      ]
     },
     "execution_count": 34,
     "metadata": {},
     "output_type": "execute_result"
    }
   ],
   "source": [
    "import fibo, sys\n",
    "dir(fibo)"
   ]
  },
  {
   "cell_type": "markdown",
   "metadata": {},
   "source": [
    "Sin argumentos, dir() lista los nombres que tenés actualmente definidos"
   ]
  },
  {
   "cell_type": "code",
   "execution_count": 35,
   "metadata": {
    "collapsed": false
   },
   "outputs": [
    {
     "data": {
      "text/plain": [
       "['In',\n",
       " 'Out',\n",
       " '_',\n",
       " '_12',\n",
       " '_13',\n",
       " '_14',\n",
       " '_15',\n",
       " '_16',\n",
       " '_17',\n",
       " '_34',\n",
       " '_5',\n",
       " '_7',\n",
       " '_9',\n",
       " '__',\n",
       " '___',\n",
       " '__builtin__',\n",
       " '__builtins__',\n",
       " '__doc__',\n",
       " '__loader__',\n",
       " '__name__',\n",
       " '__package__',\n",
       " '__spec__',\n",
       " '_dh',\n",
       " '_i',\n",
       " '_i1',\n",
       " '_i10',\n",
       " '_i11',\n",
       " '_i12',\n",
       " '_i13',\n",
       " '_i14',\n",
       " '_i15',\n",
       " '_i16',\n",
       " '_i17',\n",
       " '_i18',\n",
       " '_i19',\n",
       " '_i2',\n",
       " '_i20',\n",
       " '_i21',\n",
       " '_i22',\n",
       " '_i23',\n",
       " '_i24',\n",
       " '_i25',\n",
       " '_i26',\n",
       " '_i27',\n",
       " '_i28',\n",
       " '_i29',\n",
       " '_i3',\n",
       " '_i30',\n",
       " '_i31',\n",
       " '_i32',\n",
       " '_i33',\n",
       " '_i34',\n",
       " '_i35',\n",
       " '_i4',\n",
       " '_i5',\n",
       " '_i6',\n",
       " '_i7',\n",
       " '_i8',\n",
       " '_i9',\n",
       " '_ih',\n",
       " '_ii',\n",
       " '_iii',\n",
       " '_oh',\n",
       " '_sh',\n",
       " 'date',\n",
       " 'datetime',\n",
       " 'exit',\n",
       " 'fechas',\n",
       " 'fibo',\n",
       " 'get_ipython',\n",
       " 'quit',\n",
       " 'sys']"
      ]
     },
     "execution_count": 35,
     "metadata": {},
     "output_type": "execute_result"
    }
   ],
   "source": [
    "dir()"
   ]
  },
  {
   "cell_type": "markdown",
   "metadata": {},
   "source": [
    "dir() no lista los nombres de las funciones y variables integradas. Si querés una lista de esos, están definidos en el módulo estándar builtins"
   ]
  },
  {
   "cell_type": "code",
   "execution_count": 36,
   "metadata": {
    "collapsed": false
   },
   "outputs": [
    {
     "data": {
      "text/plain": [
       "['ArithmeticError',\n",
       " 'AssertionError',\n",
       " 'AttributeError',\n",
       " 'BaseException',\n",
       " 'BlockingIOError',\n",
       " 'BrokenPipeError',\n",
       " 'BufferError',\n",
       " 'BytesWarning',\n",
       " 'ChildProcessError',\n",
       " 'ConnectionAbortedError',\n",
       " 'ConnectionError',\n",
       " 'ConnectionRefusedError',\n",
       " 'ConnectionResetError',\n",
       " 'DeprecationWarning',\n",
       " 'EOFError',\n",
       " 'Ellipsis',\n",
       " 'EnvironmentError',\n",
       " 'Exception',\n",
       " 'False',\n",
       " 'FileExistsError',\n",
       " 'FileNotFoundError',\n",
       " 'FloatingPointError',\n",
       " 'FutureWarning',\n",
       " 'GeneratorExit',\n",
       " 'IOError',\n",
       " 'ImportError',\n",
       " 'ImportWarning',\n",
       " 'IndentationError',\n",
       " 'IndexError',\n",
       " 'InterruptedError',\n",
       " 'IsADirectoryError',\n",
       " 'KeyError',\n",
       " 'KeyboardInterrupt',\n",
       " 'LookupError',\n",
       " 'MemoryError',\n",
       " 'NameError',\n",
       " 'None',\n",
       " 'NotADirectoryError',\n",
       " 'NotImplemented',\n",
       " 'NotImplementedError',\n",
       " 'OSError',\n",
       " 'OverflowError',\n",
       " 'PendingDeprecationWarning',\n",
       " 'PermissionError',\n",
       " 'ProcessLookupError',\n",
       " 'RecursionError',\n",
       " 'ReferenceError',\n",
       " 'ResourceWarning',\n",
       " 'RuntimeError',\n",
       " 'RuntimeWarning',\n",
       " 'StopAsyncIteration',\n",
       " 'StopIteration',\n",
       " 'SyntaxError',\n",
       " 'SyntaxWarning',\n",
       " 'SystemError',\n",
       " 'SystemExit',\n",
       " 'TabError',\n",
       " 'TimeoutError',\n",
       " 'True',\n",
       " 'TypeError',\n",
       " 'UnboundLocalError',\n",
       " 'UnicodeDecodeError',\n",
       " 'UnicodeEncodeError',\n",
       " 'UnicodeError',\n",
       " 'UnicodeTranslateError',\n",
       " 'UnicodeWarning',\n",
       " 'UserWarning',\n",
       " 'ValueError',\n",
       " 'Warning',\n",
       " 'ZeroDivisionError',\n",
       " '__IPYTHON__',\n",
       " '__build_class__',\n",
       " '__debug__',\n",
       " '__doc__',\n",
       " '__import__',\n",
       " '__loader__',\n",
       " '__name__',\n",
       " '__package__',\n",
       " '__spec__',\n",
       " 'abs',\n",
       " 'all',\n",
       " 'any',\n",
       " 'ascii',\n",
       " 'bin',\n",
       " 'bool',\n",
       " 'bytearray',\n",
       " 'bytes',\n",
       " 'callable',\n",
       " 'chr',\n",
       " 'classmethod',\n",
       " 'compile',\n",
       " 'complex',\n",
       " 'copyright',\n",
       " 'credits',\n",
       " 'delattr',\n",
       " 'dict',\n",
       " 'dir',\n",
       " 'divmod',\n",
       " 'dreload',\n",
       " 'enumerate',\n",
       " 'eval',\n",
       " 'exec',\n",
       " 'filter',\n",
       " 'float',\n",
       " 'format',\n",
       " 'frozenset',\n",
       " 'get_ipython',\n",
       " 'getattr',\n",
       " 'globals',\n",
       " 'hasattr',\n",
       " 'hash',\n",
       " 'help',\n",
       " 'hex',\n",
       " 'id',\n",
       " 'input',\n",
       " 'int',\n",
       " 'isinstance',\n",
       " 'issubclass',\n",
       " 'iter',\n",
       " 'len',\n",
       " 'license',\n",
       " 'list',\n",
       " 'locals',\n",
       " 'map',\n",
       " 'max',\n",
       " 'memoryview',\n",
       " 'min',\n",
       " 'next',\n",
       " 'object',\n",
       " 'oct',\n",
       " 'open',\n",
       " 'ord',\n",
       " 'pow',\n",
       " 'print',\n",
       " 'property',\n",
       " 'range',\n",
       " 'repr',\n",
       " 'reversed',\n",
       " 'round',\n",
       " 'set',\n",
       " 'setattr',\n",
       " 'slice',\n",
       " 'sorted',\n",
       " 'staticmethod',\n",
       " 'str',\n",
       " 'sum',\n",
       " 'super',\n",
       " 'tuple',\n",
       " 'type',\n",
       " 'vars',\n",
       " 'zip']"
      ]
     },
     "execution_count": 36,
     "metadata": {},
     "output_type": "execute_result"
    }
   ],
   "source": [
    "import builtins\n",
    "dir(builtins)  "
   ]
  },
  {
   "cell_type": "markdown",
   "metadata": {},
   "source": [
    "# Paquetes"
   ]
  }
 ],
 "metadata": {
  "anaconda-cloud": {},
  "kernelspec": {
   "display_name": "Python 3",
   "language": "python",
   "name": "python3"
  },
  "language_info": {
   "codemirror_mode": {
    "name": "ipython",
    "version": 3
   },
   "file_extension": ".py",
   "mimetype": "text/x-python",
   "name": "python",
   "nbconvert_exporter": "python",
   "pygments_lexer": "ipython3",
   "version": "3.5.2"
  }
 },
 "nbformat": 4,
 "nbformat_minor": 0
}
