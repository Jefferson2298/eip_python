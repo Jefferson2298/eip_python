{
 "cells": [
  {
   "cell_type": "markdown",
   "metadata": {},
   "source": [
    "# Modularización"
   ]
  },
  {
   "cell_type": "markdown",
   "metadata": {},
   "source": [
    "La modularización tiene como objetivo brindar una mecánica para organizar el código en múltiples archivos y permitir su importación total o parcial dónde sea requerido.\n",
    "\n",
    "La [biblioteca estándar de Python](https://docs.python.org/3/library/index.html) es un ejemplo de una colección de paquetes y módulos:\n",
    "\n",
    "* [`os`](https://docs.python.org/3/library/os.html) Interfase miscelanea con el sistema operativo.\n",
    "* [`csv`](https://docs.python.org/3/library/csv.html) Lector de archivos separados por coma.\n",
    "* [zlib](https://docs.python.org/3/library/zlib.html) [gzip](https://docs.python.org/3/library/zlib.html)\n",
    "[bz2](https://docs.python.org/3/library/zlib.html) [lzma](https://docs.python.org/3/library/lzma.html) [zipfile](https://docs.python.org/3/library/zipfile.html) [tarfile](https://docs.python.org/3/library/tarfile.html) Soporte de diversos formatos de compresión.\n",
    "* [string](https://docs.python.org/3/library/string.html)\n",
    "[re](https://docs.python.org/3/library/re.html)\n",
    "[difflib](https://docs.python.org/3/library/difflib.html)\n",
    "[textwrap](https://docs.python.org/3/library/textwrap.html)\n",
    "[unicodedata](https://docs.python.org/3/library/unicodedata.html)\n",
    "[stringprep](https://docs.python.org/3/library/stringprep.html)\n",
    "[readline](https://docs.python.org/3/library/readline.html)\n",
    "[rlcompleter](https://docs.python.org/3/library/rlcompleter.html) Operaciones sobre texto.\n",
    "* [struct](https://docs.python.org/3/library/struct.html)\n",
    "[codecs](https://docs.python.org/3/library/codecs.html) Manejo de datos binarios\n",
    "* [datetime](https://docs.python.org/3/library/datetime.html)\n",
    "[calendar](https://docs.python.org/3/library/calendar.html)\n",
    "[collections](https://docs.python.org/3/library/collections.html)\n",
    "[collections](https://docs.python.org/3/library/collections.html)\n",
    "[heapq](https://docs.python.org/3/library/heapq.html)\n",
    "[bisect](https://docs.python.org/3/library/bisect.html)\n",
    "[array](https://docs.python.org/3/library/array.html)\n",
    "[weakref](https://docs.python.org/3/library/weakref.html)\n",
    "[types](https://docs.python.org/3/library/types.html)\n",
    "[copy](https://docs.python.org/3/library/copy.html)\n",
    "[pprint](https://docs.python.org/3/library/pprint.html)\n",
    "[reprlib](https://docs.python.org/3/library/reprlib.html)\n",
    "[enum](https://docs.python.org/3/library/enum.html) Tipos de datos\n",
    "* \n",
    "\n",
    "De la extensa variedad de módulos incluidos con Python, se dice que viene **con las baterías incluidas**."
   ]
  },
  {
   "cell_type": "code",
   "execution_count": 1,
   "metadata": {
    "collapsed": true
   },
   "outputs": [],
   "source": [
    "!open ."
   ]
  },
  {
   "cell_type": "code",
   "execution_count": null,
   "metadata": {
    "collapsed": true
   },
   "outputs": [],
   "source": []
  },
  {
   "cell_type": "markdown",
   "metadata": {},
   "source": [
    "En Python:\n",
    "* Un archivo es un **`módulo`**\n",
    "    - Puede contener variables, funciones, clases\n",
    "    - Ej:\n",
    "    ```python\n",
    "    # modulito.py\n",
    "    from datetime import datetime\n",
    "    def edad_en_dias(fecha_de_nacimiento):\n",
    "        ahora = datetime.now()\n",
    "        edad = ahora - fecha_de_nacimiento\n",
    "        return edad.days\n",
    "    \n",
    "    ```\n",
    "* Un **paquete** es una carpeta que al menos contiene un archivo **``__init__.py``** y puede contener otros módulos"
   ]
  },
  {
   "cell_type": "code",
   "execution_count": null,
   "metadata": {
    "collapsed": true
   },
   "outputs": [],
   "source": []
  }
 ],
 "metadata": {
  "anaconda-cloud": {},
  "kernelspec": {
   "display_name": "Python [Root]",
   "language": "python",
   "name": "Python [Root]"
  },
  "language_info": {
   "codemirror_mode": {
    "name": "ipython",
    "version": 3
   },
   "file_extension": ".py",
   "mimetype": "text/x-python",
   "name": "python",
   "nbconvert_exporter": "python",
   "pygments_lexer": "ipython3",
   "version": "3.5.2"
  }
 },
 "nbformat": 4,
 "nbformat_minor": 0
}
