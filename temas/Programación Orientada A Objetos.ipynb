{
 "cells": [
  {
   "cell_type": "markdown",
   "metadata": {
    "collapsed": true
   },
   "source": [
    "# Programación Orientada a Objetos"
   ]
  },
  {
   "cell_type": "markdown",
   "metadata": {},
   "source": [
    "## Repasando tipos de Datos\n",
    "\n",
    "Vimos que Python posee tipos de datos:\n",
    "\n",
    "- Básicos: enteros, reales, complejos, booleanos\n",
    "- Secuencias: Cadenas, Listas, Tuplas\n",
    "- Otros tipos de estructuras: Diccionarios, Conjuntos, etc. "
   ]
  },
  {
   "cell_type": "markdown",
   "metadata": {
    "collapsed": true
   },
   "source": [
    "## Tipos de Datos Definidos por el Usuario: Clases\n",
    "\n",
    "Supongamos que queremos crear un nuevo tipo de datos llamado **Punto**.\n",
    "\n",
    "Estará definido por sus coordenadas x, y.\n",
    "\n",
    "Si bien podríamos utilizar un de los tipos de datos existentes como la tupla o la lista, podemos crear nuestro propio tipo de dato con características propias."
   ]
  },
  {
   "cell_type": "code",
   "execution_count": 1,
   "metadata": {
    "collapsed": true
   },
   "outputs": [],
   "source": [
    "class Punto:\n",
    "    pass"
   ]
  },
  {
   "cell_type": "markdown",
   "metadata": {},
   "source": [
    "### La sentencia Class\n",
    "Es una sentencia compuesta formada por una cabecera y un bloque o cuerpo. En nuestro ejemplo, aún no hemos definido ningun atributo de la clase **Punto**, por ello su cuerpo es implemente la sentencia ``pass``."
   ]
  },
  {
   "cell_type": "markdown",
   "metadata": {},
   "source": [
    "### Creación de instancias (objetos)\n",
    "\n",
    "Para crera una instancia de una clase, o un objeto, utilizamos los parentesis `()` lugo del nombre de la clase."
   ]
  },
  {
   "cell_type": "code",
   "execution_count": 2,
   "metadata": {
    "collapsed": true
   },
   "outputs": [],
   "source": [
    "punto = Punto()"
   ]
  },
  {
   "cell_type": "code",
   "execution_count": 5,
   "metadata": {
    "collapsed": false
   },
   "outputs": [
    {
     "data": {
      "text/plain": [
       "__main__.Punto"
      ]
     },
     "execution_count": 5,
     "metadata": {},
     "output_type": "execute_result"
    }
   ],
   "source": [
    "type(punto)"
   ]
  },
  {
   "cell_type": "code",
   "execution_count": 6,
   "metadata": {
    "collapsed": false
   },
   "outputs": [
    {
     "data": {
      "text/plain": [
       "type"
      ]
     },
     "execution_count": 6,
     "metadata": {},
     "output_type": "execute_result"
    }
   ],
   "source": [
    "type(Punto)"
   ]
  },
  {
   "cell_type": "markdown",
   "metadata": {},
   "source": [
    "### Definiendo atributos a los objetos\n",
    "La asingación puede ser de manera dinámica:"
   ]
  },
  {
   "cell_type": "code",
   "execution_count": 4,
   "metadata": {
    "collapsed": true
   },
   "outputs": [],
   "source": [
    "punto.x = 10\n",
    "punto.y = -5"
   ]
  },
  {
   "cell_type": "markdown",
   "metadata": {},
   "source": [
    "### Definiendo otra clase...\n",
    "\n",
    "Supongamos ahora que queremos definir una nueva clase, `Rectangulo` que contenga anchura, altura y un punto de origen:\n",
    "\n",
    "<img src=\"img/cuadrado.svg\">"
   ]
  },
  {
   "cell_type": "code",
   "execution_count": 13,
   "metadata": {
    "collapsed": false
   },
   "outputs": [],
   "source": [
    "class Rectangulo:\n",
    "    pass"
   ]
  },
  {
   "cell_type": "code",
   "execution_count": 14,
   "metadata": {
    "collapsed": true
   },
   "outputs": [],
   "source": [
    "rect = Rectangulo()"
   ]
  },
  {
   "cell_type": "code",
   "execution_count": 15,
   "metadata": {
    "collapsed": true
   },
   "outputs": [],
   "source": [
    "rect.ancho = 100.0\n",
    "rect.alto = 20.0"
   ]
  },
  {
   "cell_type": "code",
   "execution_count": 17,
   "metadata": {
    "collapsed": false
   },
   "outputs": [],
   "source": [
    "rect.origen = Punto()\n",
    "rect.origen.x = 10.0\n",
    "rect.origen.y = 20.0"
   ]
  },
  {
   "cell_type": "markdown",
   "metadata": {},
   "source": [
    "### Copiando objetos\n",
    "Para copiar objetos, tenemos el módulo `copy`."
   ]
  },
  {
   "cell_type": "code",
   "execution_count": 19,
   "metadata": {
    "collapsed": true
   },
   "outputs": [],
   "source": [
    "import copy"
   ]
  },
  {
   "cell_type": "code",
   "execution_count": 20,
   "metadata": {
    "collapsed": false
   },
   "outputs": [],
   "source": [
    "rect2 = copy.copy(rect)"
   ]
  },
  {
   "cell_type": "code",
   "execution_count": 22,
   "metadata": {
    "collapsed": false
   },
   "outputs": [
    {
     "name": "stdout",
     "output_type": "stream",
     "text": [
      "<__main__.Rectangulo object at 0x104a24160> <__main__.Rectangulo object at 0x104afda20>\n"
     ]
    }
   ],
   "source": [
    "print(rect, rect2)"
   ]
  },
  {
   "cell_type": "code",
   "execution_count": 25,
   "metadata": {
    "collapsed": false
   },
   "outputs": [
    {
     "name": "stdout",
     "output_type": "stream",
     "text": [
      "Anchos 100.0 100.0\n",
      "Altos 20.0 20.0\n",
      "Origenes <__main__.Punto object at 0x104afd6a0> <__main__.Punto object at 0x104afd6a0>\n"
     ]
    }
   ],
   "source": [
    "print(\"Anchos\",rect.ancho, rect2.ancho)\n",
    "print(\"Altos\", rect.alto, rect2.alto)\n",
    "print(\"Origenes\", rect.origen, rect2.origen)"
   ]
  },
  {
   "cell_type": "markdown",
   "metadata": {},
   "source": [
    "Observemos que apuntan al mismo punto, para hacer una copia en profundidad, necesitamos utilizar `deepcopy`."
   ]
  },
  {
   "cell_type": "code",
   "execution_count": 26,
   "metadata": {
    "collapsed": true
   },
   "outputs": [],
   "source": [
    "rect3 = copy.deepcopy(rect)"
   ]
  },
  {
   "cell_type": "code",
   "execution_count": 27,
   "metadata": {
    "collapsed": false
   },
   "outputs": [
    {
     "name": "stdout",
     "output_type": "stream",
     "text": [
      "Origenes <__main__.Punto object at 0x104afd6a0> <__main__.Punto object at 0x104b0d080>\n",
      "X:  10.0 10.0\n",
      "Y:  20.0 20.0\n"
     ]
    }
   ],
   "source": [
    "print(\"Origenes\", rect.origen, rect3.origen)\n",
    "print(\"X: \", rect.origen.x, rect3.origen.x)\n",
    "print(\"Y: \", rect.origen.y, rect3.origen.y)"
   ]
  },
  {
   "cell_type": "markdown",
   "metadata": {},
   "source": [
    "Con esto logramos que los objetos internos sean distintos!"
   ]
  },
  {
   "cell_type": "markdown",
   "metadata": {},
   "source": [
    "### Métodos\n",
    "\n",
    "Los métodos son funciones internas a los objetos, en Python la referencia a la instancia **es explícita** y es el primer argumento que recibe un método. P"
   ]
  },
  {
   "cell_type": "code",
   "execution_count": null,
   "metadata": {
    "collapsed": true
   },
   "outputs": [],
   "source": [
    "class Punto:\n",
    "    def "
   ]
  }
 ],
 "metadata": {
  "anaconda-cloud": {},
  "kernelspec": {
   "display_name": "Python [conda env:default]",
   "language": "python",
   "name": "conda-env-default-py"
  },
  "language_info": {
   "codemirror_mode": {
    "name": "ipython",
    "version": 3
   },
   "file_extension": ".py",
   "mimetype": "text/x-python",
   "name": "python",
   "nbconvert_exporter": "python",
   "pygments_lexer": "ipython3",
   "version": "3.5.2"
  }
 },
 "nbformat": 4,
 "nbformat_minor": 0
}
