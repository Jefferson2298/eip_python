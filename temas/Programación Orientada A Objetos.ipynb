{
 "cells": [
  {
   "cell_type": "markdown",
   "metadata": {
    "collapsed": true
   },
   "source": [
    "# Programación Orientada a Objetos"
   ]
  },
  {
   "cell_type": "markdown",
   "metadata": {},
   "source": [
    "## Repasando tipos de Datos\n",
    "\n",
    "Vimos que Python posee tipos de datos:\n",
    "\n",
    "- Básicos: enteros, reales, complejos, booleanos\n",
    "- Secuencias: Cadenas, Listas, Tuplas\n",
    "- Otros tipos de estructuras: Diccionarios, Conjuntos, etc. "
   ]
  },
  {
   "cell_type": "markdown",
   "metadata": {
    "collapsed": true
   },
   "source": [
    "## Tipos de Datos Definidos por el Usuario: Clases\n",
    "\n",
    "Supongamos que queremos crear un nuevo tipo de datos llamado **Punto**.\n",
    "\n",
    "Estará definido por sus coordenadas x, y.\n",
    "\n",
    "Si bien podríamos utilizar un de los tipos de datos existentes como la tupla o la lista, podemos crear nuestro propio tipo de dato con características propias."
   ]
  },
  {
   "cell_type": "code",
   "execution_count": 1,
   "metadata": {
    "collapsed": true
   },
   "outputs": [],
   "source": [
    "class Punto:\n",
    "    pass"
   ]
  },
  {
   "cell_type": "markdown",
   "metadata": {},
   "source": [
    "### La sentencia Class\n",
    "Es una sentencia compuesta formada por una cabecera y un bloque o cuerpo. En nuestro ejemplo, aún no hemos definido ningun atributo de la clase **Punto**, por ello su cuerpo es implemente la sentencia ``pass``."
   ]
  },
  {
   "cell_type": "markdown",
   "metadata": {},
   "source": [
    "### Creación de instancias (objetos)\n",
    "\n",
    "Para crera una instancia de una clase, o un objeto, utilizamos los parentesis `()` lugo del nombre de la clase."
   ]
  },
  {
   "cell_type": "code",
   "execution_count": 2,
   "metadata": {
    "collapsed": true
   },
   "outputs": [],
   "source": [
    "punto = Punto()"
   ]
  },
  {
   "cell_type": "code",
   "execution_count": 5,
   "metadata": {
    "collapsed": false
   },
   "outputs": [
    {
     "data": {
      "text/plain": [
       "__main__.Punto"
      ]
     },
     "execution_count": 5,
     "metadata": {},
     "output_type": "execute_result"
    }
   ],
   "source": [
    "type(punto)"
   ]
  },
  {
   "cell_type": "code",
   "execution_count": 6,
   "metadata": {
    "collapsed": false
   },
   "outputs": [
    {
     "data": {
      "text/plain": [
       "type"
      ]
     },
     "execution_count": 6,
     "metadata": {},
     "output_type": "execute_result"
    }
   ],
   "source": [
    "type(Punto)"
   ]
  },
  {
   "cell_type": "markdown",
   "metadata": {},
   "source": [
    "### Definiendo atributos a los objetos\n",
    "La asingación puede ser de manera dinámica:"
   ]
  },
  {
   "cell_type": "code",
   "execution_count": 4,
   "metadata": {
    "collapsed": true
   },
   "outputs": [],
   "source": [
    "punto.x = 10\n",
    "punto.y = -5"
   ]
  },
  {
   "cell_type": "markdown",
   "metadata": {},
   "source": [
    "### Definiendo otra clase...\n",
    "\n",
    "Supongamos ahora que queremos definir una nueva clase, `Rectangulo` que contenga anchura, altura y un punto de origen:\n",
    "\n",
    "<img src=\"img/cuadrado.svg\">"
   ]
  },
  {
   "cell_type": "code",
   "execution_count": 13,
   "metadata": {
    "collapsed": false
   },
   "outputs": [],
   "source": [
    "class Rectangulo:\n",
    "    pass"
   ]
  },
  {
   "cell_type": "code",
   "execution_count": 14,
   "metadata": {
    "collapsed": true
   },
   "outputs": [],
   "source": [
    "rect = Rectangulo()"
   ]
  },
  {
   "cell_type": "code",
   "execution_count": 15,
   "metadata": {
    "collapsed": true
   },
   "outputs": [],
   "source": [
    "rect.ancho = 100.0\n",
    "rect.alto = 20.0"
   ]
  },
  {
   "cell_type": "code",
   "execution_count": 17,
   "metadata": {
    "collapsed": false
   },
   "outputs": [],
   "source": [
    "rect.origen = Punto()\n",
    "rect.origen.x = 10.0\n",
    "rect.origen.y = 20.0"
   ]
  },
  {
   "cell_type": "markdown",
   "metadata": {},
   "source": [
    "### Copiando objetos\n",
    "Para copiar objetos, tenemos el módulo `copy`."
   ]
  },
  {
   "cell_type": "code",
   "execution_count": 19,
   "metadata": {
    "collapsed": true
   },
   "outputs": [],
   "source": [
    "import copy"
   ]
  },
  {
   "cell_type": "code",
   "execution_count": 20,
   "metadata": {
    "collapsed": false
   },
   "outputs": [],
   "source": [
    "rect2 = copy.copy(rect)"
   ]
  },
  {
   "cell_type": "code",
   "execution_count": 22,
   "metadata": {
    "collapsed": false
   },
   "outputs": [
    {
     "name": "stdout",
     "output_type": "stream",
     "text": [
      "<__main__.Rectangulo object at 0x104a24160> <__main__.Rectangulo object at 0x104afda20>\n"
     ]
    }
   ],
   "source": [
    "print(rect, rect2)"
   ]
  },
  {
   "cell_type": "code",
   "execution_count": 25,
   "metadata": {
    "collapsed": false
   },
   "outputs": [
    {
     "name": "stdout",
     "output_type": "stream",
     "text": [
      "Anchos 100.0 100.0\n",
      "Altos 20.0 20.0\n",
      "Origenes <__main__.Punto object at 0x104afd6a0> <__main__.Punto object at 0x104afd6a0>\n"
     ]
    }
   ],
   "source": [
    "print(\"Anchos\",rect.ancho, rect2.ancho)\n",
    "print(\"Altos\", rect.alto, rect2.alto)\n",
    "print(\"Origenes\", rect.origen, rect2.origen)"
   ]
  },
  {
   "cell_type": "markdown",
   "metadata": {},
   "source": [
    "Observemos que apuntan al mismo punto, para hacer una copia en profundidad, necesitamos utilizar `deepcopy`."
   ]
  },
  {
   "cell_type": "code",
   "execution_count": 26,
   "metadata": {
    "collapsed": true
   },
   "outputs": [],
   "source": [
    "rect3 = copy.deepcopy(rect)"
   ]
  },
  {
   "cell_type": "code",
   "execution_count": 27,
   "metadata": {
    "collapsed": false
   },
   "outputs": [
    {
     "name": "stdout",
     "output_type": "stream",
     "text": [
      "Origenes <__main__.Punto object at 0x104afd6a0> <__main__.Punto object at 0x104b0d080>\n",
      "X:  10.0 10.0\n",
      "Y:  20.0 20.0\n"
     ]
    }
   ],
   "source": [
    "print(\"Origenes\", rect.origen, rect3.origen)\n",
    "print(\"X: \", rect.origen.x, rect3.origen.x)\n",
    "print(\"Y: \", rect.origen.y, rect3.origen.y)"
   ]
  },
  {
   "cell_type": "markdown",
   "metadata": {},
   "source": [
    "Con esto logramos que los objetos internos sean distintos!"
   ]
  },
  {
   "cell_type": "markdown",
   "metadata": {},
   "source": [
    "### Métodos\n",
    "\n",
    "Los métodos son funciones internas a los objetos, en Python la referencia a la instancia **es explícita** y es el primer argumento que recibe un método. Ejemplifiquemos con el inicializador, que es lo que en otros lenguajes se llama **constructor** y tiene el nombre especial `__init__`:"
   ]
  },
  {
   "cell_type": "code",
   "execution_count": 28,
   "metadata": {
    "collapsed": true
   },
   "outputs": [],
   "source": [
    "class Punto:\n",
    "    def __init__(self, x=0.0, y=0.0):\n",
    "        \"\"\"\\\n",
    "        Creación de un punto\n",
    "        \"\"\"\n",
    "        self.x = x\n",
    "        self.y = y"
   ]
  },
  {
   "cell_type": "code",
   "execution_count": 30,
   "metadata": {
    "collapsed": false
   },
   "outputs": [],
   "source": [
    "p = Punto(10, 10)"
   ]
  },
  {
   "cell_type": "code",
   "execution_count": 32,
   "metadata": {
    "collapsed": false
   },
   "outputs": [
    {
     "name": "stdout",
     "output_type": "stream",
     "text": [
      "<__main__.Punto object at 0x104b0dac8> 10 10\n"
     ]
    }
   ],
   "source": [
    "print(p, p.x, p.y)"
   ]
  },
  {
   "cell_type": "markdown",
   "metadata": {},
   "source": [
    "### Métodos útiles\n",
    "\n",
    "El método **``__str__``** es especial, le dice a Python como formatear la salida, deber retornar una cadena.\n"
   ]
  },
  {
   "cell_type": "code",
   "execution_count": 33,
   "metadata": {
    "collapsed": true
   },
   "outputs": [],
   "source": [
    "class Punto:\n",
    "    def __init__(self, x=0.0, y=0.0):\n",
    "        \"\"\"\\\n",
    "        Creación de un punto\n",
    "        \"\"\"\n",
    "        self.x = x\n",
    "        self.y = y\n",
    "    def __str__(self):\n",
    "        return \"Punto({}, {})\".format(self.x, self.y)"
   ]
  },
  {
   "cell_type": "code",
   "execution_count": 35,
   "metadata": {
    "collapsed": false
   },
   "outputs": [
    {
     "name": "stdout",
     "output_type": "stream",
     "text": [
      "Punto(-1, 3)\n"
     ]
    }
   ],
   "source": [
    "p = Punto(-1, 3)\n",
    "print(p)"
   ]
  },
  {
   "cell_type": "markdown",
   "metadata": {},
   "source": [
    "### Metodos de usuario\n",
    "Podemos definir métodos de la misma forma que definimos ``__init__``, por ejemplo, la función módulo (considerando al punto un vector con origen en `Punto(0, 0)`:"
   ]
  },
  {
   "cell_type": "code",
   "execution_count": 39,
   "metadata": {
    "collapsed": true
   },
   "outputs": [],
   "source": [
    "class Punto:\n",
    "    def __init__(self, x=0.0, y=0.0):\n",
    "        \"\"\"\\\n",
    "        Creación de un punto\n",
    "        \"\"\"\n",
    "        self.x = x\n",
    "        self.y = y\n",
    "        \n",
    "    def __str__(self):\n",
    "        return \"Punto({}, {})\".format(self.x, self.y)\n",
    "    \n",
    "    def modulo(self):\n",
    "        return (self.x ** 2 + self.y ** 2) ** (1/2)"
   ]
  },
  {
   "cell_type": "markdown",
   "metadata": {},
   "source": [
    "Aquí para no importar math ☺️ utilizamos este truco:\n",
    "\n",
    "$$c = \\sqrt{a^2 + b^2}$$ es lo mismo que $$c = (a^2 + b^2)^{1/2}$$\n",
    "\n"
   ]
  },
  {
   "cell_type": "code",
   "execution_count": 41,
   "metadata": {
    "collapsed": false
   },
   "outputs": [
    {
     "name": "stdout",
     "output_type": "stream",
     "text": [
      "14.142135623730951\n"
     ]
    }
   ],
   "source": [
    "p = Punto(10, 10)\n",
    "print(p.modulo())"
   ]
  },
  {
   "cell_type": "markdown",
   "metadata": {},
   "source": [
    "### Polimorfosimo\n",
    "\n",
    "Existen dos tipos de polimorfismo, de operadores y argumentos, python soporta el de operadores, veamos el ejemplo de la suma de dos puntos:"
   ]
  },
  {
   "cell_type": "code",
   "execution_count": 42,
   "metadata": {
    "collapsed": true
   },
   "outputs": [],
   "source": [
    "class Punto:\n",
    "    def __init__(self, x=0.0, y=0.0):\n",
    "        \"\"\"\\\n",
    "        Creación de un punto\n",
    "        \"\"\"\n",
    "        self.x = x\n",
    "        self.y = y\n",
    "        \n",
    "    def __str__(self):\n",
    "        return \"Punto({}, {})\".format(self.x, self.y)\n",
    "    \n",
    "    def modulo(self):\n",
    "        return (self.x ** 2 + self.y ** 2) ** (1/2)\n",
    "    \n",
    "    def __add__(self, otro_punto):\n",
    "        return Punto(self.x + otro_punto.x,  self.y + otro_punto.y)"
   ]
  },
  {
   "cell_type": "code",
   "execution_count": 44,
   "metadata": {
    "collapsed": false
   },
   "outputs": [
    {
     "name": "stdout",
     "output_type": "stream",
     "text": [
      "Punto(30, 30)\n"
     ]
    }
   ],
   "source": [
    "punto_sumado = Punto(10, 10) + Punto(20, 20)\n",
    "print(punto_sumado)"
   ]
  },
  {
   "cell_type": "markdown",
   "metadata": {},
   "source": [
    "### Herencia\n",
    "\n",
    "Python soporta herencia simple y múltiple, veamos un ejemplo:"
   ]
  },
  {
   "cell_type": "code",
   "execution_count": null,
   "metadata": {
    "collapsed": true
   },
   "outputs": [],
   "source": []
  }
 ],
 "metadata": {
  "anaconda-cloud": {},
  "kernelspec": {
   "display_name": "Python [conda env:default]",
   "language": "python",
   "name": "conda-env-default-py"
  },
  "language_info": {
   "codemirror_mode": {
    "name": "ipython",
    "version": 3
   },
   "file_extension": ".py",
   "mimetype": "text/x-python",
   "name": "python",
   "nbconvert_exporter": "python",
   "pygments_lexer": "ipython3",
   "version": "3.5.2"
  }
 },
 "nbformat": 4,
 "nbformat_minor": 0
}
