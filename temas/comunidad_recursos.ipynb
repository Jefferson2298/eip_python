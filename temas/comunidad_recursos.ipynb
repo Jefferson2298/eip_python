{
 "cells": [
  {
   "cell_type": "markdown",
   "metadata": {},
   "source": [
    "# Comunidad y Recursos\n",
    "## Comunidad en la Zona\n",
    "![](http://photos4.meetupstatic.com/photos/event/2/7/f/9/global_437650233.jpeg)\n",
    "* [Meetup Patagónico de Python](http://www.meetup.com/es-ES/Patagonia-Python-Meetup/) Reuniones periódicas dónde se exponen temas relacionados con Python.\n",
    "  \n",
    "\n",
    "## Comunidad en Argentina\n",
    " ![](http://wiki.huayra.conectarigualdad.gob.ar/images/6/62/Pyar_logo.png)\n",
    " \n",
    " * [PyAr](http://www.python.org.ar/)\n",
    "     - [Lista de Correo](http://www.python.org.ar/lista/)\n",
    "     - [Chat IRC](http://www.python.org.ar/irc/)\n",
    "    \n",
    "## Eventos próximos\n",
    "\n",
    "\n",
    "## Sitios de Aprendizaje\n",
    "\n",
    " * [Programación para Todos en Coursera](https://es.coursera.org/learn/python)\n",
    " * [CheckIO](https://checkio.org/)\n",
    "\n",
    "## Mutlimedia\n",
    " * [PyCon 2016 en YouTube](https://www.youtube.com/channel/UCwTD5zJbsQGJN75MwbykYNw) Buscar otros eventos\n",
    " * [Podcast.\\_\\_init\\_\\_](https://podcastinit.com/) Podcast mensual\n",
    " * [Talk Python To Me](https://talkpython.fm/) Podcast mensual\n",
    " * [Lista de correo Python Weekly](http://www.pythonweekly.com/)"
   ]
  },
  {
   "cell_type": "code",
   "execution_count": null,
   "metadata": {
    "collapsed": true
   },
   "outputs": [],
   "source": []
  }
 ],
 "metadata": {
  "anaconda-cloud": {},
  "kernelspec": {
   "display_name": "Python 3",
   "language": "python",
   "name": "python3"
  },
  "language_info": {
   "codemirror_mode": {
    "name": "ipython",
    "version": 3
   },
   "file_extension": ".py",
   "mimetype": "text/x-python",
   "name": "python",
   "nbconvert_exporter": "python",
   "pygments_lexer": "ipython3",
   "version": "3.6.2"
  }
 },
 "nbformat": 4,
 "nbformat_minor": 1
}
